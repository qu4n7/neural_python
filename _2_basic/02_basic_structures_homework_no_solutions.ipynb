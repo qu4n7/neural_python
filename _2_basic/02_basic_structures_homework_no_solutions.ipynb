{
 "cells": [
  {
   "cell_type": "markdown",
   "metadata": {},
   "source": [
    "# Python для Анализа Данных\n",
    "\n",
    "#### Полина Полунина\n",
    "\n",
    "## Домашнее задание 2"
   ]
  },
  {
   "cell_type": "markdown",
   "metadata": {},
   "source": [
    "### Вариант Light"
   ]
  },
  {
   "cell_type": "markdown",
   "metadata": {},
   "source": [
    "#### Задача 1\n",
    "\n",
    "Используя цикл for, найдите сумму всех элементов заданного списка. (Без использования встроенных функций sum и т.д.)"
   ]
  },
  {
   "cell_type": "code",
   "execution_count": 174,
   "metadata": {},
   "outputs": [],
   "source": [
    "my_list = [40, 32, 45, 22, 69, 3, 59, 150, 34, 0, 2, 5, 1, 38, 65, 39, 94]"
   ]
  },
  {
   "cell_type": "code",
   "execution_count": 175,
   "metadata": {},
   "outputs": [
    {
     "name": "stdout",
     "output_type": "stream",
     "text": [
      "сумма всех элементов заданного списка составляет: 698\n"
     ]
    }
   ],
   "source": [
    "sum_ = 0\n",
    "for i in my_list:\n",
    "    sum_ += i\n",
    "print(f'сумма всех элементов заданного списка составляет: {sum_}')"
   ]
  },
  {
   "cell_type": "markdown",
   "metadata": {},
   "source": [
    "Проверка:"
   ]
  },
  {
   "cell_type": "code",
   "execution_count": 176,
   "metadata": {},
   "outputs": [
    {
     "data": {
      "text/plain": [
       "698"
      ]
     },
     "execution_count": 176,
     "metadata": {},
     "output_type": "execute_result"
    }
   ],
   "source": [
    "sum(my_list)"
   ]
  },
  {
   "cell_type": "markdown",
   "metadata": {},
   "source": [
    "#### Задача 2\n",
    "\n",
    "Напишите функцию, которая принимает на вход список из предыдущего задания и возвращает сумму всех элементов списка. (Без использования встроенных функций sum и т.д.)"
   ]
  },
  {
   "cell_type": "code",
   "execution_count": 177,
   "metadata": {},
   "outputs": [
    {
     "name": "stdout",
     "output_type": "stream",
     "text": [
      "сумма всех элементов заданного списка составляет: 698\n"
     ]
    }
   ],
   "source": [
    "def sum_(array):\n",
    "    sum_ = 0\n",
    "    for i in my_list:\n",
    "        sum_ += i\n",
    "    return sum_\n",
    "\n",
    "print(f'сумма всех элементов заданного списка составляет: {sum_(my_list)}')"
   ]
  },
  {
   "cell_type": "markdown",
   "metadata": {},
   "source": [
    "#### Задача 3\n",
    "\n",
    "Используя цикл (любой) найдите значение максимального элемента списка из предыдущего задания. (Без использования встроенных функций max и т.д.) Можно использовать встроенные методы списков (любые). \n",
    "\n",
    "P.S.: не стесняйтесь гуглить :)\n",
    "\n",
    "P.S.2: гуглить нужно фразу \"алгоритм поиска максимального элемента массива\"\n",
    "\n",
    "Пример: для списка [3, 4, 1, 7, 2] значением максимального элемента является число 7"
   ]
  },
  {
   "cell_type": "code",
   "execution_count": 178,
   "metadata": {},
   "outputs": [],
   "source": [
    "my_list = [40, 32, 45, 22, 69, 3, 59, 150, 34, 0, 2, 5, 1, 38, 65, 39, 94]"
   ]
  },
  {
   "cell_type": "code",
   "execution_count": 179,
   "metadata": {},
   "outputs": [
    {
     "name": "stdout",
     "output_type": "stream",
     "text": [
      "максимальный элемент: 150\n"
     ]
    }
   ],
   "source": [
    "max_ = 0\n",
    "for i in my_list:\n",
    "    max_ = i if max_ is 0 or i > max_ else max_\n",
    "    \n",
    "print(f'максимальный элемент: {max_}')"
   ]
  },
  {
   "cell_type": "markdown",
   "metadata": {},
   "source": [
    "Проверка:"
   ]
  },
  {
   "cell_type": "code",
   "execution_count": 180,
   "metadata": {},
   "outputs": [
    {
     "data": {
      "text/plain": [
       "150"
      ]
     },
     "execution_count": 180,
     "metadata": {},
     "output_type": "execute_result"
    }
   ],
   "source": [
    "max(my_list)"
   ]
  },
  {
   "cell_type": "markdown",
   "metadata": {},
   "source": [
    "#### Задача 4\n",
    "\n",
    "Напишите функцию, которая принимает на вход список из предыдущего задания и возвращает его максимальный элемент. (Без использования встроенных функций max и т.д.) Можно использовать встроенные методы списков (любые). Т.е. заверните решение предыдущего задания в функцию.\n"
   ]
  },
  {
   "cell_type": "code",
   "execution_count": 181,
   "metadata": {},
   "outputs": [
    {
     "name": "stdout",
     "output_type": "stream",
     "text": [
      "максимальный элемент: 150\n"
     ]
    }
   ],
   "source": [
    "def max_(array):\n",
    "    max_ = 0\n",
    "    for i in array:\n",
    "        max_ = i if max_ is 0 or i > max_ else max_\n",
    "    return max_\n",
    "print(f'максимальный элемент: {max_(my_list)}')"
   ]
  },
  {
   "cell_type": "markdown",
   "metadata": {},
   "source": [
    "#### Задача 5\n",
    "\n",
    "Используя список из предыдущего задания (my_list) создайте кортеж и назовите его my_tuple. Найдите индекс элемента, который равен 5. \n",
    "\n",
    "P.S. Используйте один из встроенных методов для кортежей"
   ]
  },
  {
   "cell_type": "code",
   "execution_count": 182,
   "metadata": {},
   "outputs": [],
   "source": [
    "my_list = [40, 32, 45, 22, 69, 3, 59, 150, 34, 0, 2, 5, 1, 38, 65, 39, 94]"
   ]
  },
  {
   "cell_type": "code",
   "execution_count": 183,
   "metadata": {},
   "outputs": [
    {
     "data": {
      "text/plain": [
       "11"
      ]
     },
     "execution_count": 183,
     "metadata": {},
     "output_type": "execute_result"
    }
   ],
   "source": [
    "my_tuple = tuple(my_list)\n",
    "my_tuple.index(5)"
   ]
  },
  {
   "cell_type": "markdown",
   "metadata": {},
   "source": [
    "**Задача 6**\n",
    "\n",
    "Создайте словарь, соответствующий следующему описанию: \n",
    "    \n",
    "В честь 8 марта начальник отдела Валера решил принести на работу коробку конфет и угостить коллег :) Красотка Наташа съела две конфеты, ее подруга Алина - целых три, разработчик Марат унес с собой в соседний опен-спейс целых пятнадцать, чтобы поделиться со своей командой, менеджер проекта Лев проходил мимо и съел одну конфету, а сам Валера, будучи сторонником здорового образа жизни, ни съел ни одной.\n",
    "\n",
    "P.S. все совпадения случайны :)"
   ]
  },
  {
   "cell_type": "code",
   "execution_count": 184,
   "metadata": {},
   "outputs": [],
   "source": [
    "my_dict = {'Наташа' : 2,\n",
    "          'Алина' : 3,\n",
    "          'Марат' : 15,\n",
    "          'Лев' : 1,\n",
    "          'Валера' : 0}"
   ]
  },
  {
   "cell_type": "markdown",
   "metadata": {},
   "source": [
    "**Задача 7**\n",
    "\n",
    "Добавьте в словарь из предыдущего задания данные для студента Ромы, который работает неполный рабочий день, и, придя на работу после экзамена, с удовольствием съел 4 конфеты.\n",
    "\n",
    "P.S. используйте встроенный метод .update"
   ]
  },
  {
   "cell_type": "code",
   "execution_count": 185,
   "metadata": {},
   "outputs": [],
   "source": [
    "my_dict.update({'Рома' : 4})"
   ]
  },
  {
   "cell_type": "code",
   "execution_count": 186,
   "metadata": {},
   "outputs": [
    {
     "data": {
      "text/plain": [
       "{'Наташа': 2, 'Алина': 3, 'Марат': 15, 'Лев': 1, 'Валера': 0, 'Рома': 4}"
      ]
     },
     "execution_count": 186,
     "metadata": {},
     "output_type": "execute_result"
    }
   ],
   "source": [
    "my_dict"
   ]
  },
  {
   "cell_type": "markdown",
   "metadata": {},
   "source": [
    "**Задача 8**\n",
    "\n",
    "Двое друзей решили отправиться в путешествия. Дима посетил следующие страны: Украина, Египет, США, Германия, Дания. Алина же побывала на Украине, в Египте, Испании, Тунисе, Германии, Швейцарии.\n",
    "\n",
    "Создайте два множества (set), соответствующие странам, которые посетили Дима и Алина.\n",
    "\n",
    "Найдите:\n",
    "* только те страны, в которых побывали и Дима, и Алина (пересечение)\n",
    "* все страны, которые посетили друзья (объединение)\n",
    "* страны, в которых Алина побывала, а Дима еще нет"
   ]
  },
  {
   "cell_type": "code",
   "execution_count": 187,
   "metadata": {},
   "outputs": [],
   "source": [
    "dima  = set(['Украина', 'Египет', 'США', 'Германия', 'Дания'])\n",
    "alina = set(['Украина', 'Египет', 'Испания', 'Тунис', 'Германия', 'Швейцария'])"
   ]
  },
  {
   "cell_type": "code",
   "execution_count": 188,
   "metadata": {},
   "outputs": [
    {
     "name": "stdout",
     "output_type": "stream",
     "text": [
      "страны, в которых побывали и Дима, и Алина (пересечение):\n"
     ]
    },
    {
     "data": {
      "text/plain": [
       "{'Германия', 'Египет', 'Украина'}"
      ]
     },
     "execution_count": 188,
     "metadata": {},
     "output_type": "execute_result"
    }
   ],
   "source": [
    "print('страны, в которых побывали и Дима, и Алина (пересечение):')\n",
    "dima & alina"
   ]
  },
  {
   "cell_type": "code",
   "execution_count": 189,
   "metadata": {},
   "outputs": [
    {
     "name": "stdout",
     "output_type": "stream",
     "text": [
      "все страны, которые посетили друзья (объединение):\n"
     ]
    },
    {
     "data": {
      "text/plain": [
       "{'Германия',\n",
       " 'Дания',\n",
       " 'Египет',\n",
       " 'Испания',\n",
       " 'США',\n",
       " 'Тунис',\n",
       " 'Украина',\n",
       " 'Швейцария'}"
      ]
     },
     "execution_count": 189,
     "metadata": {},
     "output_type": "execute_result"
    }
   ],
   "source": [
    "print('все страны, которые посетили друзья (объединение):')\n",
    "dima | alina"
   ]
  },
  {
   "cell_type": "code",
   "execution_count": 190,
   "metadata": {},
   "outputs": [
    {
     "name": "stdout",
     "output_type": "stream",
     "text": [
      "страны, в которых Алина побывала, а Дима еще нет:\n"
     ]
    },
    {
     "data": {
      "text/plain": [
       "{'Испания', 'Тунис', 'Швейцария'}"
      ]
     },
     "execution_count": 190,
     "metadata": {},
     "output_type": "execute_result"
    }
   ],
   "source": [
    "print('страны, в которых Алина побывала, а Дима еще нет:')\n",
    "alina - dima"
   ]
  },
  {
   "cell_type": "markdown",
   "metadata": {},
   "source": [
    "**Задача 9**\n",
    "\n",
    "Запустите две ячейки с кодом ниже и убедитесь, что вы понимаете разницу в выполнении кода:"
   ]
  },
  {
   "cell_type": "code",
   "execution_count": 191,
   "metadata": {},
   "outputs": [
    {
     "name": "stdout",
     "output_type": "stream",
     "text": [
      "0.5\n",
      "1.5\n"
     ]
    },
    {
     "ename": "TypeError",
     "evalue": "unsupported operand type(s) for /: 'str' and 'int'",
     "output_type": "error",
     "traceback": [
      "\u001b[1;31m---------------------------------------------------------------------------\u001b[0m",
      "\u001b[1;31mTypeError\u001b[0m                                 Traceback (most recent call last)",
      "\u001b[1;32m<ipython-input-191-d8c7441c9db1>\u001b[0m in \u001b[0;36m<module>\u001b[1;34m\u001b[0m\n\u001b[0;32m      2\u001b[0m \u001b[1;33m\u001b[0m\u001b[0m\n\u001b[0;32m      3\u001b[0m \u001b[1;32mfor\u001b[0m \u001b[0melement\u001b[0m \u001b[1;32min\u001b[0m \u001b[0mmy_array\u001b[0m\u001b[1;33m:\u001b[0m\u001b[1;33m\u001b[0m\u001b[1;33m\u001b[0m\u001b[0m\n\u001b[1;32m----> 4\u001b[1;33m     \u001b[0mprint\u001b[0m\u001b[1;33m(\u001b[0m\u001b[0melement\u001b[0m \u001b[1;33m/\u001b[0m \u001b[1;36m2\u001b[0m\u001b[1;33m)\u001b[0m\u001b[1;33m\u001b[0m\u001b[1;33m\u001b[0m\u001b[0m\n\u001b[0m\u001b[0;32m      5\u001b[0m \u001b[1;33m\u001b[0m\u001b[0m\n\u001b[0;32m      6\u001b[0m \u001b[0mprint\u001b[0m\u001b[1;33m(\u001b[0m\u001b[1;34m\"Я следующий кусок кода, который НЕ отработал!\"\u001b[0m\u001b[1;33m)\u001b[0m\u001b[1;33m\u001b[0m\u001b[1;33m\u001b[0m\u001b[0m\n",
      "\u001b[1;31mTypeError\u001b[0m: unsupported operand type(s) for /: 'str' and 'int'"
     ]
    }
   ],
   "source": [
    "my_array = [1, 3, \"Котики\", 4]\n",
    "\n",
    "for element in my_array:\n",
    "    print(element / 2)\n",
    "    \n",
    "print(\"Я следующий кусок кода, который НЕ отработал!\")"
   ]
  },
  {
   "cell_type": "code",
   "execution_count": 193,
   "metadata": {},
   "outputs": [
    {
     "name": "stdout",
     "output_type": "stream",
     "text": [
      "0.5\n",
      "1.5\n",
      "Не могу поделить, элемент не численного типа!\n",
      "\n",
      "\n",
      "Я следующий кусок кода, который отработал!\n"
     ]
    }
   ],
   "source": [
    "my_array = [1, 3, \"Котики\", 4]\n",
    "\n",
    "try:\n",
    "    for element in my_array:\n",
    "        print(element / 2)\n",
    "except:\n",
    "    print(\"Не могу поделить, элемент не численного типа!\")\n",
    "    \n",
    "print(\"\\n\")\n",
    "print(\"Я следующий кусок кода, который отработал!\")"
   ]
  },
  {
   "cell_type": "markdown",
   "metadata": {},
   "source": [
    "**Задача 10**\n",
    "\n",
    "Используя lambda функцию напишите функцию, которая возводит числа в квадрат. Используя написанную функцию, найдите квадрат числа 12."
   ]
  },
  {
   "cell_type": "code",
   "execution_count": 194,
   "metadata": {},
   "outputs": [
    {
     "data": {
      "text/plain": [
       "144"
      ]
     },
     "execution_count": 194,
     "metadata": {},
     "output_type": "execute_result"
    }
   ],
   "source": [
    "def sq(x):\n",
    "    f = lambda x: x ** 2\n",
    "    return f(x)\n",
    "sq(12)"
   ]
  },
  {
   "cell_type": "markdown",
   "metadata": {},
   "source": [
    "### Задачи Pro"
   ]
  },
  {
   "cell_type": "markdown",
   "metadata": {},
   "source": [
    "**Задача 1**\n",
    "\n",
    "\n",
    "Используя циклы, напишите код, который создает список (list) путем конкатенации значений данного листа с целыми числами от 1 до (произвольного) n включительно.\n",
    "\n",
    "Пример:\n",
    "\n",
    "для списка [\"сосиски\", \"горчица\"] при n = 3 результат должен выглядеть так:\n",
    "\n",
    "['сосиски$\\_$1', 'горчица$\\_$1', 'сосиски$\\_2$', 'горчица$\\_$2', 'сосиски$\\_$3', 'горчица$\\_$3']"
   ]
  },
  {
   "cell_type": "code",
   "execution_count": 195,
   "metadata": {},
   "outputs": [],
   "source": [
    "sample_list = [\"огурцы\", \"помидоры\", \"оливковое_масло\"]"
   ]
  },
  {
   "cell_type": "code",
   "execution_count": 196,
   "metadata": {},
   "outputs": [
    {
     "data": {
      "text/plain": [
       "['огурцы1',\n",
       " 'огурцы2',\n",
       " 'помидоры1',\n",
       " 'помидоры2',\n",
       " 'оливковое_масло1',\n",
       " 'оливковое_масло2']"
      ]
     },
     "execution_count": 196,
     "metadata": {},
     "output_type": "execute_result"
    }
   ],
   "source": [
    "n = 3\n",
    "rslt = []\n",
    "for i in sample_list:\n",
    "    for j in range(1, n):\n",
    "        rslt.append(i+'{}'.format(j))\n",
    "rslt"
   ]
  },
  {
   "cell_type": "markdown",
   "metadata": {},
   "source": [
    "**Задача 2**\n",
    "\n",
    "Для предудыщей задачи напишите функцию, которая выполняет те же самые действия."
   ]
  },
  {
   "cell_type": "code",
   "execution_count": 197,
   "metadata": {},
   "outputs": [
    {
     "name": "stdout",
     "output_type": "stream",
     "text": [
      "сколько копий?8\n"
     ]
    },
    {
     "data": {
      "text/plain": [
       "['огурцы1',\n",
       " 'огурцы2',\n",
       " 'огурцы3',\n",
       " 'огурцы4',\n",
       " 'огурцы5',\n",
       " 'огурцы6',\n",
       " 'огурцы7',\n",
       " 'помидоры1',\n",
       " 'помидоры2',\n",
       " 'помидоры3',\n",
       " 'помидоры4',\n",
       " 'помидоры5',\n",
       " 'помидоры6',\n",
       " 'помидоры7',\n",
       " 'оливковое_масло1',\n",
       " 'оливковое_масло2',\n",
       " 'оливковое_масло3',\n",
       " 'оливковое_масло4',\n",
       " 'оливковое_масло5',\n",
       " 'оливковое_масло6',\n",
       " 'оливковое_масло7']"
      ]
     },
     "execution_count": 197,
     "metadata": {},
     "output_type": "execute_result"
    }
   ],
   "source": [
    "def smth(my_list):\n",
    "    n = int(input('сколько копий?'))\n",
    "    rslt = []\n",
    "    for i in sample_list:\n",
    "        for j in range(1, n):\n",
    "            rslt.append(i+'{}'.format(j))\n",
    "    return rslt\n",
    "\n",
    "smth(my_list)"
   ]
  },
  {
   "cell_type": "markdown",
   "metadata": {},
   "source": [
    "**Задача 3**\n",
    "\n",
    "Напишите код, который считает количество элементов в заданном списке до тех пор, пока не встретится элемент кортежа.\n",
    "\n",
    "Пример:\n",
    "\n",
    "для списка [3, \"котики\", 0.45, 5, (8, 9), \"слоники\", 34] на выходе должны получить число 4"
   ]
  },
  {
   "cell_type": "code",
   "execution_count": 198,
   "metadata": {},
   "outputs": [
    {
     "name": "stdout",
     "output_type": "stream",
     "text": [
      "[35, 0.24, (3+4j), 'котики', 0.45, (8, 9), 'слоники', ('Мадрид', 3), 23498]\n"
     ]
    }
   ],
   "source": [
    "list_for_pro_task_2 = [35, 0.24, 3 + 4j, \"котики\", 0.45, (8, 9), \"слоники\", (\"Мадрид\", 3), 23498]\n",
    "print(list_for_pro_task_2)"
   ]
  },
  {
   "cell_type": "code",
   "execution_count": 199,
   "metadata": {},
   "outputs": [
    {
     "data": {
      "text/plain": [
       "True"
      ]
     },
     "execution_count": 199,
     "metadata": {},
     "output_type": "execute_result"
    }
   ],
   "source": [
    "type(list_for_pro_task_2[5]) == tuple"
   ]
  },
  {
   "cell_type": "code",
   "execution_count": 200,
   "metadata": {},
   "outputs": [
    {
     "data": {
      "text/plain": [
       "5"
      ]
     },
     "execution_count": 200,
     "metadata": {},
     "output_type": "execute_result"
    }
   ],
   "source": [
    "lngth = 0\n",
    "\n",
    "for i in list_for_pro_task_2:\n",
    "    if type(i) != tuple:\n",
    "        lngth += 1\n",
    "    else:\n",
    "        break\n",
    "lngth"
   ]
  },
  {
   "cell_type": "code",
   "execution_count": 201,
   "metadata": {},
   "outputs": [
    {
     "name": "stdout",
     "output_type": "stream",
     "text": [
      "<class 'int'>\n",
      "<class 'float'>\n",
      "<class 'complex'>\n",
      "<class 'str'>\n",
      "<class 'float'>\n",
      "<class 'tuple'>\n",
      "<class 'str'>\n",
      "<class 'tuple'>\n",
      "<class 'int'>\n"
     ]
    }
   ],
   "source": [
    "lngth = 0\n",
    "for i in list_for_pro_task_2:\n",
    "    print(type(i))"
   ]
  },
  {
   "cell_type": "markdown",
   "metadata": {},
   "source": [
    "**Задача 4**\n",
    "\n",
    "\n",
    "Создайте словарь (dict) c ключами, соответствующими числам от 1 до 20 включительно и значениями, соответствующими квадратам ключей. \n",
    "\n",
    "P.S. используйте циклы или функции, прямое \"ручное\" присваивание не допускается (!!!)\n",
    "\n",
    "Пример: \n",
    "\n",
    "для чисел от 1 до 3 включительно словарь должен выглядеть так: {1 : 1, 2 : 4, 3 : 9}"
   ]
  },
  {
   "cell_type": "code",
   "execution_count": 202,
   "metadata": {},
   "outputs": [
    {
     "name": "stdout",
     "output_type": "stream",
     "text": [
      "{1: 1, 2: 4, 3: 9, 4: 16, 5: 25, 6: 36, 7: 49, 8: 64, 9: 81, 10: 100, 11: 121, 12: 144, 13: 169, 14: 196, 15: 225, 16: 256, 17: 289, 18: 324, 19: 361, 20: 400}\n"
     ]
    }
   ],
   "source": [
    "dct = {}\n",
    "for i in range(1, 21):\n",
    "    dct[i] = i**2\n",
    "print(dct)"
   ]
  },
  {
   "cell_type": "markdown",
   "metadata": {},
   "source": [
    "**Задача 5**\n",
    "\n",
    "Напишите функцию, которая выполняет все то же самое, что и в предыдущей задаче, но от 1 до произвольного n."
   ]
  },
  {
   "cell_type": "code",
   "execution_count": 203,
   "metadata": {},
   "outputs": [
    {
     "name": "stdout",
     "output_type": "stream",
     "text": [
      "какое n? 10\n"
     ]
    },
    {
     "data": {
      "text/plain": [
       "{1: 1, 2: 4, 3: 9, 4: 16, 5: 25, 6: 36, 7: 49, 8: 64, 9: 81}"
      ]
     },
     "execution_count": 203,
     "metadata": {},
     "output_type": "execute_result"
    }
   ],
   "source": [
    "# немного усложню, зато заявка на ООП\n",
    "class my_dictionary(dict): \n",
    "    \n",
    "    def __init__(self):\n",
    "        self = dict() \n",
    "    # требуемая функция\n",
    "    def add(self):\n",
    "        n = int(input('какое n? '))\n",
    "        for i in range(1,n):\n",
    "            self[i] = i ** 2\n",
    "        return self\n",
    "    \n",
    "dct = my_dictionary()\n",
    "dct.add()"
   ]
  },
  {
   "cell_type": "markdown",
   "metadata": {},
   "source": [
    "**Задача 6**\n",
    "\n",
    "Напишите все то же самое, что и в предыдущей задаче, с помощью lambda функции."
   ]
  },
  {
   "cell_type": "code",
   "execution_count": 204,
   "metadata": {},
   "outputs": [
    {
     "name": "stdout",
     "output_type": "stream",
     "text": [
      "какое n? 10\n"
     ]
    },
    {
     "data": {
      "text/plain": [
       "{1: 1, 2: 4, 3: 9, 4: 16, 5: 25, 6: 36, 7: 49, 8: 64, 9: 81}"
      ]
     },
     "execution_count": 204,
     "metadata": {},
     "output_type": "execute_result"
    }
   ],
   "source": [
    "# не очень понял, зачем применить lambda без map(), в итоге додумался только до такого\n",
    "class my_dictionary(dict): \n",
    "    \n",
    "    def __init__(self):\n",
    "        self = dict()\n",
    "\n",
    "    def add(self):\n",
    "        n = int(input('какое n? '))\n",
    "        for i in range(1,n):\n",
    "            key = i\n",
    "            value = lambda i: i**2\n",
    "            self[key] = value(i)\n",
    "        return self\n",
    "    \n",
    "dct = my_dictionary()\n",
    "dct.add()"
   ]
  },
  {
   "cell_type": "markdown",
   "metadata": {},
   "source": [
    "**Задача 7**\n",
    "\n",
    "Прочитайте что такое **map** и напишите все то же самое, что и в предыдущих задачах, с помощью конструкции \n",
    "\n",
    "map(function_object, iterable1, iterable2,...)\n",
    "\n",
    "P.S. Обратите внимание, что **function_object** может быть как обычной, так и lambda функцией"
   ]
  },
  {
   "cell_type": "code",
   "execution_count": 205,
   "metadata": {},
   "outputs": [
    {
     "name": "stdout",
     "output_type": "stream",
     "text": [
      "какое n?10\n"
     ]
    },
    {
     "data": {
      "text/plain": [
       "{1: 1, 2: 4, 3: 9, 4: 16, 5: 25, 6: 36, 7: 49, 8: 64, 9: 81}"
      ]
     },
     "execution_count": 205,
     "metadata": {},
     "output_type": "execute_result"
    }
   ],
   "source": [
    "# вариант, где function_object как lambda\n",
    "class my_dictionary(dict): \n",
    "    \n",
    "    def __init__(self):\n",
    "        self = dict()\n",
    "\n",
    "    def add(self):\n",
    "        n = range(1, int(input('какое n?')))\n",
    "        self = dict(list(zip(n, map(lambda x: x**2, n))))\n",
    "        return self\n",
    "\n",
    "dct = my_dictionary()\n",
    "dct.add()        "
   ]
  },
  {
   "cell_type": "markdown",
   "metadata": {},
   "source": [
    "**Задача 8**\n",
    "\n",
    "Решите Задачу 8 про множества из варианта Light. "
   ]
  },
  {
   "cell_type": "markdown",
   "metadata": {},
   "source": [
    "вроде, уже решил в части light"
   ]
  },
  {
   "cell_type": "markdown",
   "metadata": {},
   "source": [
    "**Задача 9**\n",
    "\n",
    "Напишите функцтю, которая вычисляет квадратный корень для заданного числа. Довабьте в функцию \"защиту от дурака\", используя конструкцию исключений (try - except - else).\n",
    "\n",
    "* добавьте проверку на тип введенных данных\n",
    "* добавьте проверку на неотрицательность числа, подаваемого на вход"
   ]
  },
  {
   "cell_type": "code",
   "execution_count": 206,
   "metadata": {},
   "outputs": [
    {
     "name": "stdout",
     "output_type": "stream",
     "text": [
      "введите неотрицательное число: g\n",
      "ошибка ввода, введите неотрицательное число: \n",
      "введите неотрицательное число: 9\n",
      "3.0\n"
     ]
    }
   ],
   "source": [
    "while True:\n",
    "    try:\n",
    "        rqst = int(input('введите неотрицательное число: '))\n",
    "        if rqst >= 0:\n",
    "            rslt = rqst ** 0.5\n",
    "            print(rslt)\n",
    "            break\n",
    "        else:\n",
    "            raise ValueError\n",
    "    except ValueError:\n",
    "        print('ошибка ввода, введите неотрицательное число: ')\n",
    "        continue"
   ]
  },
  {
   "cell_type": "markdown",
   "metadata": {},
   "source": [
    "**Задача 10**\n",
    "\n",
    "Напишите **прототип генератора батчей**. Для произвольного списка (содержащего данные любого типа), имеющего произвольную длину n, поделите список на m непересекающихся частей одинаковой длины. Если невозможно поделить список на части одинаковой длины, т.е. n / m не делится без остатка, то в последнем батче кол-во элементов будет < m (т.е. все оставшиеся элементы). Батчи выбираются случайным образом (используйте функцию random.sample(my_list_name, size_of_sample)). Не забудьте удалять из исходного списка элементы, которые уже отобраны. Для этого лучше создать копию исходного списка и работать с ней (используйте встроенный метод .copy).\n",
    "\n",
    "* Создайте список длины n\n",
    "* C помощью циклов и функции random.sample поделите список на непересекающиеся батчи длины m \n",
    "* Заверните код в генератор (ключевое слово yield)\n",
    "* Продемонстрируйте правильность работы кода на произвольном списке"
   ]
  },
  {
   "cell_type": "code",
   "execution_count": 207,
   "metadata": {},
   "outputs": [
    {
     "name": "stdout",
     "output_type": "stream",
     "text": [
      "какое n? 10\n",
      "исходный список: [68, 13, 58, 37, 68, 73, 59, 26, 34, 31]\n",
      "\n",
      "генератор:\n",
      "[[13, 34, 37], [59, 58, 68], [31, 73, 26], [68]]\n"
     ]
    }
   ],
   "source": [
    "import random\n",
    "import numpy as np\n",
    "# генерирую для примера список\n",
    "list_size = int(input('какое n? '))\n",
    "my_list = list(np.random.randint(1, 100, list_size))\n",
    "print(f'исходный список: {my_list}')\n",
    "# дальше функция выборки из генеральнйо совкупности\n",
    "def batching(my_list, sample_size):\n",
    "    my_list_copy = my_list.copy()\n",
    "    for i in range(list_size // sample_size):\n",
    "        sample = random.sample(my_list_copy, sample_size)\n",
    "        yield sample\n",
    "        \n",
    "        for j in range(len(sample)):\n",
    "            my_list_copy.remove(sample[j])\n",
    "    if list_size % sample_size != 0:\n",
    "        batch = my_list_copy.copy()\n",
    "        yield batch\n",
    "        \n",
    "print('\\nгенератор:\\n{}'.format(list(batching(my_list, 3))))"
   ]
  }
 ],
 "metadata": {
  "kernelspec": {
   "display_name": "Python 3",
   "language": "python",
   "name": "python3"
  },
  "language_info": {
   "codemirror_mode": {
    "name": "ipython",
    "version": 3
   },
   "file_extension": ".py",
   "mimetype": "text/x-python",
   "name": "python",
   "nbconvert_exporter": "python",
   "pygments_lexer": "ipython3",
   "version": "3.7.3"
  }
 },
 "nbformat": 4,
 "nbformat_minor": 2
}
