{
 "cells": [
  {
   "cell_type": "markdown",
   "metadata": {},
   "source": [
    "# Python для Анализа Данных\n",
    "\n",
    "**Полина Полунина**\n",
    "\n",
    "# Домашнее задание 3: Модули и классы"
   ]
  },
  {
   "cell_type": "markdown",
   "metadata": {},
   "source": [
    "В этой домашней работе деление на Light и Pro довольно условно. Для Light достаточно решить первые 2 задачи. Для Pro - все 4. "
   ]
  },
  {
   "cell_type": "markdown",
   "metadata": {},
   "source": [
    "## Вариант Light"
   ]
  },
  {
   "cell_type": "markdown",
   "metadata": {},
   "source": [
    "### Задача 1"
   ]
  },
  {
   "cell_type": "markdown",
   "metadata": {},
   "source": [
    "Создайте класс **окружность** с атрибутом **радиус**. В классе должны быть следующие методы:\n",
    "* расчет диаметра\n",
    "* расчет длины окружности\n",
    "* расчет площади \n",
    "\n",
    "Продемонстрируйте правильность работы кода"
   ]
  },
  {
   "cell_type": "code",
   "execution_count": 1,
   "metadata": {},
   "outputs": [],
   "source": [
    "# сигнатура класса\n",
    "class Circle:\n",
    "    \n",
    "    # конструктор класса\n",
    "    def __init__(self, radius):\n",
    "        self.radius = radius\n",
    "    \n",
    "    # метод для расчета диаметра\n",
    "    def diameter(self):\n",
    "        diameter = 2 * self.radius\n",
    "        return diameter\n",
    "    \n",
    "    # метод для расчета длины окружности\n",
    "    def length(self):\n",
    "        # не уверен, что я должен тут вызывать, но пусть так\n",
    "        from math import pi\n",
    "        length = round(2 * pi * self.radius, 2)\n",
    "        return length\n",
    "    \n",
    "    # метод для расчета площади\n",
    "    def area(self):\n",
    "        from math import pi\n",
    "        area = round(pi * self.radius ** 2, 2)\n",
    "        return area"
   ]
  },
  {
   "cell_type": "markdown",
   "metadata": {},
   "source": [
    "### Задача 2"
   ]
  },
  {
   "cell_type": "markdown",
   "metadata": {},
   "source": [
    "Создайте класс **прямоугольник** с атрибутами **длина** и **ширина**. В классе должны быть следующие методы:\n",
    "* расчет площади прямоугольника\n",
    "* расчет диагонали прямоугольника\n",
    "* расчет радиуса описанной вокруг прямоугольника окружности\n",
    "* расчет площади описанной окружности\n",
    "* расчет площади вписанной окружности\n",
    "* расчет длины окружности вписанной окружности\n",
    "* расчет длины окружности описанной окружности\n",
    "\n"
   ]
  },
  {
   "cell_type": "code",
   "execution_count": 2,
   "metadata": {},
   "outputs": [],
   "source": [
    "class Rectangle:\n",
    "    \n",
    "    def __init__(self, width, length):\n",
    "        self.width = width\n",
    "        self.length = length\n",
    "    \n",
    "    # для удобства вызову значение pi как функцию\n",
    "    def pi(self):\n",
    "        from math import pi\n",
    "        pi = pi\n",
    "        return pi\n",
    "    \n",
    "    # расчет площади прямоугольника\n",
    "    def area(self):\n",
    "        area = 2 * self.width * self.length\n",
    "        return area\n",
    "    \n",
    "    # расчет диагонали прямоугольника\n",
    "    def diagonal(self):\n",
    "        diagonal = (self.length ** 2 + self.width * 2) ** 0.5\n",
    "        return diagonal\n",
    "    \n",
    "    # расчет радиуса описанной вокруг прямоугольника окружности\n",
    "    def radius_out(self):\n",
    "        radius_out = self.diagonal() * 0.5\n",
    "        return radius_out\n",
    "    \n",
    "    # расчет площади описанной окружности\n",
    "    def area_out(self):\n",
    "        area_out = self.pi() * self.radius_out() ** 2\n",
    "        return area_out\n",
    "    \n",
    "    # расчет площади вписанной окружности\n",
    "    def area_in(self):\n",
    "        area_in = self.pi() * (0.5 * min(self.width, self.length)) ** 2\n",
    "        return area_in\n",
    "    \n",
    "    # расчет длины окружности вписанной окружности\n",
    "    def length_in(self):\n",
    "        length_in = self.pi() * min(self.width, self.length)\n",
    "        return length_in\n",
    "    \n",
    "    # расчет длины окружности описанной окружности\n",
    "    def length_out(self):\n",
    "        length_out = self.pi() * self.diagonal()\n",
    "        return length_out   "
   ]
  },
  {
   "cell_type": "markdown",
   "metadata": {},
   "source": [
    "## Вариант Pro"
   ]
  },
  {
   "cell_type": "markdown",
   "metadata": {},
   "source": [
    "### Задача 3"
   ]
  },
  {
   "cell_type": "markdown",
   "metadata": {},
   "source": [
    "Создайте класс **прямоугольный параллелепипед** с атрибутами длина основания, ширина основания, высота. Унаследуйте все, что можно унаследовать, у класса из предыдущей задачи (прямоугольник). Методы предыдущего класса будут относиться к основанию параллелепипеда. Кроме тех методов, что мы наследуем у предыдущего класса, добавьте:\n",
    "\n",
    "* расчет объема параллелепипеда\n",
    "\n",
    "Продемонстрируйте правильность работы кода"
   ]
  },
  {
   "cell_type": "code",
   "execution_count": 3,
   "metadata": {},
   "outputs": [],
   "source": [
    "class Cuboid(Rectangle):\n",
    "    def __init__ (self, width, length, height):\n",
    "        Rectangle.__init__(self, width, length)\n",
    "        self.height = height\n",
    "    \n",
    "    def volume(self):\n",
    "        volume = self.width * self.length * self.height\n",
    "        return volume"
   ]
  },
  {
   "cell_type": "code",
   "execution_count": 4,
   "metadata": {},
   "outputs": [
    {
     "name": "stdout",
     "output_type": "stream",
     "text": [
      "ширина составляет: 3.00\n",
      "длина составляет: 4.00\n",
      "высота составляет: 5.00\n",
      "площадь основания составляет: 24.00\n",
      "диагональ основания составляет: 4.69\n",
      "радиус описанной вокруг основания окружности составляет: 2.35\n",
      "площадь описанной вокруг основания окружности составляет: 17.28\n",
      "площадь вписанной в основание окружности составляет: 7.07\n",
      "длина окружности вписанной в основание окружности составляет: 9.42\n",
      "длина окружности описанной вокруг основания окружности составляет: 14.74\n",
      "объем параллелепипеда составляет: 60.00\n"
     ]
    }
   ],
   "source": [
    "cuboid_test = Cuboid(3, 4, 5)\n",
    "\n",
    "print('ширина составляет: {:.2f}'.format(cuboid_test.width))\n",
    "print('длина составляет: {:.2f}'.format(cuboid_test.length))\n",
    "print('высота составляет: {:.2f}'.format(cuboid_test.height))\n",
    "print('площадь основания составляет: {:.2f}'.format(cuboid_test.area()))\n",
    "print('диагональ основания составляет: {:.2f}'.format(cuboid_test.diagonal()))\n",
    "print('радиус описанной вокруг основания окружности составляет: {:.2f}'.format(cuboid_test.radius_out()))\n",
    "print('площадь описанной вокруг основания окружности составляет: {:.2f}'.format(cuboid_test.area_out()))\n",
    "print('площадь вписанной в основание окружности составляет: {:.2f}'.format(cuboid_test.area_in()))\n",
    "print('длина окружности вписанной в основание окружности составляет: {:.2f}'.format(cuboid_test.length_in()))\n",
    "print('длина окружности описанной вокруг основания окружности составляет: {:.2f}'.format(cuboid_test.length_out()))\n",
    "print('объем параллелепипеда составляет: {:.2f}'.format(cuboid_test.volume()))"
   ]
  },
  {
   "cell_type": "markdown",
   "metadata": {},
   "source": [
    "### Задача 4"
   ]
  },
  {
   "cell_type": "markdown",
   "metadata": {},
   "source": [
    "Заверните классы из предыдущих задач в модуль **Геометрия**. Импортируйте модуль. Создайте несколько экземпляров классов. Продемонстрируйте правильность работы кода."
   ]
  },
  {
   "cell_type": "code",
   "execution_count": 5,
   "metadata": {},
   "outputs": [],
   "source": [
    "from geometry import Rectangle_mod\n",
    "\n",
    "rect_test = Rectangle_mod.Rectangle(2,3)"
   ]
  },
  {
   "cell_type": "code",
   "execution_count": 6,
   "metadata": {
    "scrolled": true
   },
   "outputs": [
    {
     "name": "stdout",
     "output_type": "stream",
     "text": [
      "ширина составляет: 2.00\n",
      "длина составляет: 3.00\n",
      "площадь составляет: 12.00\n",
      "диагональ составляет: 3.61\n",
      "радиус описанной окружности составляет: 1.80\n",
      "площадь описанной окружности составляет: 10.21\n",
      "площадь вписанной окружности составляет: 3.14\n",
      "длина окружности вписанной окружности составляет: 6.28\n",
      "длина окружности описанной окружности составляет: 11.33\n"
     ]
    }
   ],
   "source": [
    "print('ширина составляет: {:.2f}'.format(rect_test.width))\n",
    "print('длина составляет: {:.2f}'.format(rect_test.length))\n",
    "print('площадь составляет: {:.2f}'.format(rect_test.area()))\n",
    "print('диагональ составляет: {:.2f}'.format(rect_test.diagonal()))\n",
    "print('радиус описанной окружности составляет: {:.2f}'.format(rect_test.radius_out()))\n",
    "print('площадь описанной окружности составляет: {:.2f}'.format(rect_test.area_out()))\n",
    "print('площадь вписанной окружности составляет: {:.2f}'.format(rect_test.area_in()))\n",
    "print('длина окружности вписанной окружности составляет: {:.2f}'.format(rect_test.length_in()))\n",
    "print('длина окружности описанной окружности составляет: {:.2f}'.format(rect_test.length_out()))"
   ]
  },
  {
   "cell_type": "markdown",
   "metadata": {},
   "source": [
    "#### подскажите, пжл, в чем я ошибся - когда я импортирую дочерний класс, почему то он перестает обрабатывать свой уникальный атрибут"
   ]
  },
  {
   "cell_type": "code",
   "execution_count": 9,
   "metadata": {},
   "outputs": [
    {
     "ename": "TypeError",
     "evalue": "module() takes at most 2 arguments (3 given)",
     "output_type": "error",
     "traceback": [
      "\u001b[1;31m---------------------------------------------------------------------------\u001b[0m",
      "\u001b[1;31mTypeError\u001b[0m                                 Traceback (most recent call last)",
      "\u001b[1;32m<ipython-input-9-29cdb9b29576>\u001b[0m in \u001b[0;36m<module>\u001b[1;34m\u001b[0m\n\u001b[1;32m----> 1\u001b[1;33m \u001b[1;32mfrom\u001b[0m \u001b[0mgeometry\u001b[0m \u001b[1;32mimport\u001b[0m \u001b[0mCuboid_mod\u001b[0m\u001b[1;33m\u001b[0m\u001b[1;33m\u001b[0m\u001b[0m\n\u001b[0m",
      "\u001b[1;32m~\\Desktop\\neuron_python\\_3\\_task\\geometry\\Cuboid_mod.py\u001b[0m in \u001b[0;36m<module>\u001b[1;34m\u001b[0m\n\u001b[0;32m      1\u001b[0m \u001b[1;32mfrom\u001b[0m \u001b[0mgeometry\u001b[0m \u001b[1;32mimport\u001b[0m \u001b[0mRectangle_mod\u001b[0m\u001b[1;33m\u001b[0m\u001b[1;33m\u001b[0m\u001b[0m\n\u001b[0;32m      2\u001b[0m \u001b[1;33m\u001b[0m\u001b[0m\n\u001b[1;32m----> 3\u001b[1;33m \u001b[1;32mclass\u001b[0m \u001b[0mCuboid\u001b[0m\u001b[1;33m(\u001b[0m\u001b[0mRectangle_mod\u001b[0m\u001b[1;33m)\u001b[0m\u001b[1;33m:\u001b[0m\u001b[1;33m\u001b[0m\u001b[1;33m\u001b[0m\u001b[0m\n\u001b[0m\u001b[0;32m      4\u001b[0m     \u001b[1;32mdef\u001b[0m \u001b[0m__init__\u001b[0m \u001b[1;33m(\u001b[0m\u001b[0mself\u001b[0m\u001b[1;33m,\u001b[0m \u001b[0mwidth\u001b[0m\u001b[1;33m,\u001b[0m \u001b[0mlength\u001b[0m\u001b[1;33m,\u001b[0m \u001b[0mheight\u001b[0m\u001b[1;33m)\u001b[0m\u001b[1;33m:\u001b[0m\u001b[1;33m\u001b[0m\u001b[1;33m\u001b[0m\u001b[0m\n\u001b[0;32m      5\u001b[0m         \u001b[0mRectangle\u001b[0m\u001b[1;33m.\u001b[0m\u001b[0m__init__\u001b[0m\u001b[1;33m(\u001b[0m\u001b[0mself\u001b[0m\u001b[1;33m,\u001b[0m \u001b[0mwidth\u001b[0m\u001b[1;33m,\u001b[0m \u001b[0mlength\u001b[0m\u001b[1;33m)\u001b[0m\u001b[1;33m\u001b[0m\u001b[1;33m\u001b[0m\u001b[0m\n",
      "\u001b[1;31mTypeError\u001b[0m: module() takes at most 2 arguments (3 given)"
     ]
    }
   ],
   "source": [
    "from geometry import Cuboid_mod"
   ]
  }
 ],
 "metadata": {
  "kernelspec": {
   "display_name": "Python 3",
   "language": "python",
   "name": "python3"
  },
  "language_info": {
   "codemirror_mode": {
    "name": "ipython",
    "version": 3
   },
   "file_extension": ".py",
   "mimetype": "text/x-python",
   "name": "python",
   "nbconvert_exporter": "python",
   "pygments_lexer": "ipython3",
   "version": "3.7.3"
  }
 },
 "nbformat": 4,
 "nbformat_minor": 2
}
