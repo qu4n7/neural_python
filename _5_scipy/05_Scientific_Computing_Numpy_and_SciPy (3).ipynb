{
 "cells": [
  {
   "cell_type": "markdown",
   "metadata": {},
   "source": [
    "# Python для Анализа Данных\n",
    "\n",
    "# Лекция 5: Научные вычисления с NumPy и SciPy"
   ]
  },
  {
   "cell_type": "markdown",
   "metadata": {},
   "source": [
    "## Библиотека NumPy\n",
    "\n",
    "NumPy - векторные/научные вычисления. Пакет содержит функциональные средства для работы с многомерными массивами и высокоуровневыми математическими функциями"
   ]
  },
  {
   "cell_type": "markdown",
   "metadata": {},
   "source": [
    "## Библиотека SciPy\n",
    "\n",
    "SciPy - научные вычисления. Методы оптимизации, интегрирования, модули обработки сигналов и изображений, статистика, линейная алгебра, сплайны, кластеризация и многое другое. "
   ]
  },
  {
   "cell_type": "markdown",
   "metadata": {},
   "source": [
    "Импортирование библиотек:"
   ]
  },
  {
   "cell_type": "code",
   "execution_count": 1,
   "metadata": {},
   "outputs": [],
   "source": [
    "import numpy as np\n",
    "import scipy as sp"
   ]
  },
  {
   "cell_type": "markdown",
   "metadata": {},
   "source": [
    "## 1. Отказ от циклов\n",
    "\n",
    "### Векторные операции\n",
    "\n",
    "**Векторные операции** - это операции без циклов.\n",
    "\n",
    "Пример: поэлементное сложение двух одномерных массивов"
   ]
  },
  {
   "cell_type": "code",
   "execution_count": 2,
   "metadata": {},
   "outputs": [
    {
     "name": "stdout",
     "output_type": "stream",
     "text": [
      "a_numpy: [7 4 8 5 7], b_numpy: [3 7 8 5 4], type: <class 'numpy.ndarray'>\n",
      "a_list: [7, 4, 8, 5, 7], b_list: [3, 7, 8, 5, 4], type: <class 'list'>\n"
     ]
    }
   ],
   "source": [
    "# фиксируем генератор случайных чисел\n",
    "np.random.seed(42)\n",
    "\n",
    "# создаем два numpy массива\n",
    "a_numpy = np.random.randint(low=1, high=10, size=5)\n",
    "b_numpy = np.random.randint(low=1, high=10, size=5)\n",
    "print('a_numpy: {}, b_numpy: {}, type: {}'.format(a_numpy, b_numpy, type(a_numpy)))\n",
    "\n",
    "# создаем два аналогичных списка\n",
    "a_list = a_numpy.tolist()\n",
    "b_list = b_numpy.tolist()\n",
    "print('a_list: {}, b_list: {}, type: {}'.format(a_list, b_list, type(a_list)))"
   ]
  },
  {
   "cell_type": "markdown",
   "metadata": {},
   "source": [
    "* чистый python:"
   ]
  },
  {
   "cell_type": "code",
   "execution_count": 3,
   "metadata": {},
   "outputs": [
    {
     "name": "stdout",
     "output_type": "stream",
     "text": [
      "[10, 11, 16, 10, 11]\n"
     ]
    }
   ],
   "source": [
    "sum_arr=[]\n",
    "for i in range(len(a_list)):\n",
    "    sum_arr.append(a_list[i] + b_list[i])\n",
    "print(sum_arr)"
   ]
  },
  {
   "cell_type": "markdown",
   "metadata": {},
   "source": [
    "* векторизированное решение с numpy:"
   ]
  },
  {
   "cell_type": "code",
   "execution_count": 4,
   "metadata": {},
   "outputs": [
    {
     "name": "stdout",
     "output_type": "stream",
     "text": [
      "[10 11 16 10 11]\n"
     ]
    }
   ],
   "source": [
    "sum_numpy = a_numpy + b_numpy\n",
    "print(sum_numpy)"
   ]
  },
  {
   "cell_type": "code",
   "execution_count": 5,
   "metadata": {},
   "outputs": [
    {
     "name": "stdout",
     "output_type": "stream",
     "text": [
      "1.16 µs ± 81.5 ns per loop (mean ± std. dev. of 7 runs, 1000000 loops each)\n"
     ]
    }
   ],
   "source": [
    "%%timeit\n",
    "sum_arr=[]\n",
    "for i in range(len(a_list)):\n",
    "    sum_arr.append(a_list[i] + b_list[i])"
   ]
  },
  {
   "cell_type": "code",
   "execution_count": 6,
   "metadata": {},
   "outputs": [
    {
     "name": "stdout",
     "output_type": "stream",
     "text": [
      "536 ns ± 12.2 ns per loop (mean ± std. dev. of 7 runs, 1000000 loops each)\n"
     ]
    }
   ],
   "source": [
    "%%timeit\n",
    "sum_numpy = a_numpy + b_numpy"
   ]
  },
  {
   "cell_type": "markdown",
   "metadata": {},
   "source": [
    "#### Вычисление произведения двух матриц\n"
   ]
  },
  {
   "cell_type": "code",
   "execution_count": 7,
   "metadata": {},
   "outputs": [],
   "source": [
    "import random"
   ]
  },
  {
   "cell_type": "code",
   "execution_count": 8,
   "metadata": {},
   "outputs": [],
   "source": [
    "# пример как еще можно фиксировать генератор случайных чисел\n",
    "random.seed(42)"
   ]
  },
  {
   "cell_type": "code",
   "execution_count": 9,
   "metadata": {},
   "outputs": [
    {
     "name": "stdout",
     "output_type": "stream",
     "text": [
      "a_numpy: \n",
      "[[7 4 8 5]\n",
      " [7 3 7 8]\n",
      " [5 4 8 8]], \n",
      "\n",
      "b_numpy: \n",
      "[[3 6 5]\n",
      " [2 8 6]\n",
      " [2 5 1]\n",
      " [6 9 1]], \n",
      "\n",
      "type: <class 'numpy.ndarray'>\n",
      "\n",
      "a_list: \n",
      "[[7, 4, 8, 5], [7, 3, 7, 8], [5, 4, 8, 8]], \n",
      "\n",
      "b_list: \n",
      "[[3, 6, 5], [2, 8, 6], [2, 5, 1], [6, 9, 1]], \n",
      "\n",
      "type: <class 'list'>\n"
     ]
    }
   ],
   "source": [
    "np.random.seed(42)\n",
    "\n",
    "# создаем два numpy массива\n",
    "a_numpy = np.random.randint(low=1, high=10, size=(3,4))\n",
    "b_numpy = np.random.randint(low=1, high=10, size=(4,3))\n",
    "print('a_numpy: \\n{}, \\n\\nb_numpy: \\n{}, \\n\\ntype: {}'.format(a_numpy, b_numpy, type(a_numpy)))\n",
    "\n",
    "a_list = a_numpy.tolist()\n",
    "b_list = b_numpy.tolist()\n",
    "print('\\na_list: \\n{}, \\n\\nb_list: \\n{}, \\n\\ntype: {}'.format(a_list, b_list, type(a_list)))"
   ]
  },
  {
   "cell_type": "markdown",
   "metadata": {},
   "source": [
    "* чистый python"
   ]
  },
  {
   "cell_type": "code",
   "execution_count": 10,
   "metadata": {},
   "outputs": [],
   "source": [
    "prod_arr = [[],[],[]]\n",
    "\n",
    "for i in range(len(a_list)):\n",
    "    for j in range(len(a_list)):\n",
    "        sum_ = 0\n",
    "        for k in range(len(b_list)):\n",
    "            sum_ += a_list[i][k] * b_list[k][j]\n",
    "        prod_arr[i].append(sum_)"
   ]
  },
  {
   "cell_type": "code",
   "execution_count": 11,
   "metadata": {},
   "outputs": [
    {
     "name": "stdout",
     "output_type": "stream",
     "text": [
      "[[75, 159, 72], [89, 173, 68], [87, 174, 65]]\n"
     ]
    }
   ],
   "source": [
    "print(prod_arr)"
   ]
  },
  {
   "cell_type": "markdown",
   "metadata": {},
   "source": [
    "* векторизированное решение с numpy"
   ]
  },
  {
   "cell_type": "code",
   "execution_count": 12,
   "metadata": {},
   "outputs": [],
   "source": [
    "c = np.zeros((a_numpy.shape[0], b_numpy.shape[1]))\n",
    "for i in range(a_numpy.shape[0]):\n",
    "    for j in range(b_numpy.shape[1]):\n",
    "        for s in range(a_numpy.shape[1]):\n",
    "            c[i, j] += a_numpy[i, s] * b_numpy[s, j]"
   ]
  },
  {
   "cell_type": "code",
   "execution_count": 13,
   "metadata": {},
   "outputs": [
    {
     "name": "stdout",
     "output_type": "stream",
     "text": [
      "[[ 75. 159.  72.]\n",
      " [ 89. 173.  68.]\n",
      " [ 87. 174.  65.]]\n"
     ]
    }
   ],
   "source": [
    "print(c)"
   ]
  },
  {
   "cell_type": "markdown",
   "metadata": {},
   "source": [
    "* встроенный метод numpy"
   ]
  },
  {
   "cell_type": "code",
   "execution_count": 14,
   "metadata": {},
   "outputs": [
    {
     "data": {
      "text/plain": [
       "array([[ 75, 159,  72],\n",
       "       [ 89, 173,  68],\n",
       "       [ 87, 174,  65]])"
      ]
     },
     "execution_count": 14,
     "metadata": {},
     "output_type": "execute_result"
    }
   ],
   "source": [
    "a_numpy.dot(b_numpy)"
   ]
  },
  {
   "cell_type": "code",
   "execution_count": 15,
   "metadata": {},
   "outputs": [
    {
     "name": "stdout",
     "output_type": "stream",
     "text": [
      "11.9 µs ± 574 ns per loop (mean ± std. dev. of 7 runs, 100000 loops each)\n"
     ]
    }
   ],
   "source": [
    "%%timeit\n",
    "prod_arr = [[],[],[]]\n",
    "\n",
    "for i in range(len(a_list)):\n",
    "    for j in range(len(a_list)):\n",
    "        sum_ = 0\n",
    "        for k in range(len(b_list)):\n",
    "            sum_ += a_list[i][k] * b_list[k][j]\n",
    "        prod_arr[i].append(sum_)"
   ]
  },
  {
   "cell_type": "code",
   "execution_count": 16,
   "metadata": {},
   "outputs": [
    {
     "name": "stdout",
     "output_type": "stream",
     "text": [
      "39.6 µs ± 1.31 µs per loop (mean ± std. dev. of 7 runs, 10000 loops each)\n"
     ]
    }
   ],
   "source": [
    "%%timeit\n",
    "c = np.zeros((a_numpy.shape[0], b_numpy.shape[1]))\n",
    "for i in range(a_numpy.shape[0]):\n",
    "    for j in range(b_numpy.shape[1]):\n",
    "        for s in range(a_numpy.shape[1]):\n",
    "            c[i, j] += a_numpy[i, s] * b_numpy[s, j]"
   ]
  },
  {
   "cell_type": "code",
   "execution_count": 17,
   "metadata": {},
   "outputs": [
    {
     "name": "stdout",
     "output_type": "stream",
     "text": [
      "980 ns ± 66.8 ns per loop (mean ± std. dev. of 7 runs, 1000000 loops each)\n"
     ]
    }
   ],
   "source": [
    "%%timeit\n",
    "a_numpy.dot(b_numpy)"
   ]
  },
  {
   "cell_type": "markdown",
   "metadata": {},
   "source": [
    "#### Пример: Вычисления цепочками"
   ]
  },
  {
   "cell_type": "markdown",
   "metadata": {},
   "source": [
    "Дана функция\n",
    "\n",
    "$f(x) = \\frac{1}{2}x^TAx + b^Tx + c$\n",
    "\n",
    "ее градиент\n",
    "\n",
    "$\\nabla{f(x)} = \\frac{1}{2}(A + A^T)x + b$"
   ]
  },
  {
   "cell_type": "code",
   "execution_count": 18,
   "metadata": {},
   "outputs": [
    {
     "name": "stdout",
     "output_type": "stream",
     "text": [
      "[[7 4 8]\n",
      " [5 7 3]\n",
      " [7 8 5]]\n"
     ]
    }
   ],
   "source": [
    "np.random.seed(42)\n",
    "A = np.random.randint(low=1, high=10, size=(3,3))\n",
    "print(A)"
   ]
  },
  {
   "cell_type": "code",
   "execution_count": 19,
   "metadata": {},
   "outputs": [
    {
     "name": "stdout",
     "output_type": "stream",
     "text": [
      "x: [4 8 8]\n",
      "b: [3 6 5]\n",
      "c: [2]\n"
     ]
    }
   ],
   "source": [
    "x = np.random.randint(1,10,3)\n",
    "b = np.random.randint(1,10,3)\n",
    "c = np.random.randint(1,10,1)\n",
    "print('x:', x)\n",
    "print('b:', b)\n",
    "print('c:', c)"
   ]
  },
  {
   "cell_type": "code",
   "execution_count": 20,
   "metadata": {},
   "outputs": [
    {
     "data": {
      "text/plain": [
       "array([1278.])"
      ]
     },
     "execution_count": 20,
     "metadata": {},
     "output_type": "execute_result"
    }
   ],
   "source": [
    "0.5 * x.T.dot(A).dot(x) + b.T.dot(x) + c"
   ]
  },
  {
   "cell_type": "code",
   "execution_count": 21,
   "metadata": {},
   "outputs": [
    {
     "data": {
      "text/plain": [
       "array([127., 124., 119.])"
      ]
     },
     "execution_count": 21,
     "metadata": {},
     "output_type": "execute_result"
    }
   ],
   "source": [
    "0.5 * (A + A.T).dot(x) + b"
   ]
  },
  {
   "cell_type": "code",
   "execution_count": 22,
   "metadata": {},
   "outputs": [
    {
     "data": {
      "text/plain": [
       "array([124, 136,  96])"
      ]
     },
     "execution_count": 22,
     "metadata": {},
     "output_type": "execute_result"
    }
   ],
   "source": [
    "x.T@(A)"
   ]
  },
  {
   "cell_type": "code",
   "execution_count": 23,
   "metadata": {},
   "outputs": [
    {
     "data": {
      "text/plain": [
       "array([124, 136,  96])"
      ]
     },
     "execution_count": 23,
     "metadata": {},
     "output_type": "execute_result"
    }
   ],
   "source": [
    "x.T.dot(A)"
   ]
  },
  {
   "cell_type": "markdown",
   "metadata": {},
   "source": [
    "#### Линейная регрессия с numpy своими руками"
   ]
  },
  {
   "cell_type": "markdown",
   "metadata": {},
   "source": [
    "**Задача Линейной Регрессии в трех словах**\n",
    "\n",
    "Есть данные, например, цена дома. Кроме цены, нам известна еще и общая площадь дома. Хотим научиться определять цену дома по его площади.\n",
    "\n",
    "Модель - линейная:\n",
    "\n",
    "HousePrice = a + b * TotalArea + error\n",
    "\n",
    "Коэффициенты a и b определяются в явном виде решением соответствующей оптимизационной задачи методом наименьших квадратов (МНК). \n",
    "\n",
    "Готовые формулы:\n",
    "\n",
    "$\\hat{b} = \\frac{\\sum(x_i - average(x))(y_i - average(y))}{\\sum(x_i - average(x))^2}$\n",
    "\n",
    "$\\hat{a} = average(x) - \\hat{b} * average(y)$\n"
   ]
  },
  {
   "cell_type": "code",
   "execution_count": 25,
   "metadata": {},
   "outputs": [],
   "source": [
    "# Загрузим данные\n",
    "import pandas as pd\n",
    "df = pd.read_csv('train.csv')\n",
    "TotalArea = df['GrLivArea'].values\n",
    "HousePrice = df['SalePrice'].values"
   ]
  },
  {
   "cell_type": "code",
   "execution_count": 26,
   "metadata": {},
   "outputs": [],
   "source": [
    "num = ((TotalArea - TotalArea.mean()) * (HousePrice - HousePrice.mean())).sum()"
   ]
  },
  {
   "cell_type": "code",
   "execution_count": 27,
   "metadata": {},
   "outputs": [],
   "source": [
    "den = np.sum((TotalArea - TotalArea.mean())**2)"
   ]
  },
  {
   "cell_type": "code",
   "execution_count": 28,
   "metadata": {},
   "outputs": [],
   "source": [
    "b = num / den\n",
    "a = HousePrice.mean() - b * TotalArea.mean()"
   ]
  },
  {
   "cell_type": "code",
   "execution_count": 29,
   "metadata": {},
   "outputs": [
    {
     "data": {
      "image/png": "[encoded data removed]",
      "text/plain": [
       "<matplotlib.figure.Figure at 0x1d75e6ca828>"
      ]
     },
     "metadata": {
      "needs_background": "light"
     },
     "output_type": "display_data"
    }
   ],
   "source": [
    "import matplotlib.pyplot as plt\n",
    "import seaborn as sns\n",
    "sns.set_style('darkgrid')\n",
    "%matplotlib inline\n",
    "plt.figure(figsize=(10,6))\n",
    "plt.scatter(TotalArea, HousePrice, label='данные')\n",
    "plt.plot(TotalArea, a + b * TotalArea, 'purple', label='найденная зависимость')\n",
    "plt.title('Зависимость цены на дом от общей площади дома')\n",
    "plt.xlabel('TotalArea')\n",
    "plt.ylabel('HousePrice')\n",
    "plt.legend()\n",
    "plt.show()"
   ]
  },
  {
   "cell_type": "markdown",
   "metadata": {},
   "source": [
    "\n",
    "## Специальные структуры"
   ]
  },
  {
   "cell_type": "markdown",
   "metadata": {},
   "source": [
    "### 1. Разреженные матрицы"
   ]
  },
  {
   "cell_type": "markdown",
   "metadata": {},
   "source": [
    "Разреженная матрица - это матрица, внутри которой преимущественно нулевые элементы"
   ]
  },
  {
   "cell_type": "code",
   "execution_count": 30,
   "metadata": {},
   "outputs": [
    {
     "name": "stdout",
     "output_type": "stream",
     "text": [
      "[[1 0 0 1 0 0]\n",
      " [0 0 2 0 0 1]\n",
      " [0 0 0 2 0 0]]\n"
     ]
    }
   ],
   "source": [
    "from scipy.sparse import csr_matrix\n",
    "\n",
    "A = np.array([[1, 0, 0, 1, 0, 0], [0, 0, 2, 0, 0, 1], [0, 0, 0, 2, 0, 0]])\n",
    "print(A)"
   ]
  },
  {
   "cell_type": "code",
   "execution_count": 31,
   "metadata": {},
   "outputs": [
    {
     "name": "stdout",
     "output_type": "stream",
     "text": [
      "  (0, 0)\t1\n",
      "  (0, 3)\t1\n",
      "  (1, 2)\t2\n",
      "  (1, 5)\t1\n",
      "  (2, 3)\t2\n"
     ]
    }
   ],
   "source": [
    "S = csr_matrix(A)\n",
    "print(S)"
   ]
  },
  {
   "cell_type": "code",
   "execution_count": 32,
   "metadata": {},
   "outputs": [
    {
     "name": "stdout",
     "output_type": "stream",
     "text": [
      "[[1 0 0 1 0 0]\n",
      " [0 0 2 0 0 1]\n",
      " [0 0 0 2 0 0]]\n"
     ]
    }
   ],
   "source": [
    "B = S.todense()\n",
    "print(B)"
   ]
  },
  {
   "cell_type": "code",
   "execution_count": 33,
   "metadata": {},
   "outputs": [
    {
     "name": "stdout",
     "output_type": "stream",
     "text": [
      "0.7222222222222222\n"
     ]
    }
   ],
   "source": [
    "# процент нулевых элементов\n",
    "sparsity = 1 - np.count_nonzero(A) / A.size\n",
    "print(sparsity)"
   ]
  },
  {
   "cell_type": "code",
   "execution_count": 34,
   "metadata": {},
   "outputs": [
    {
     "data": {
      "text/plain": [
       "0.7222222222222222"
      ]
     },
     "execution_count": 34,
     "metadata": {},
     "output_type": "execute_result"
    }
   ],
   "source": [
    "1 - S.count_nonzero() / A.size"
   ]
  },
  {
   "cell_type": "markdown",
   "metadata": {},
   "source": [
    "#### Операции с разреженными матрицами"
   ]
  },
  {
   "cell_type": "code",
   "execution_count": 35,
   "metadata": {},
   "outputs": [
    {
     "data": {
      "text/plain": [
       "array([[1, 0, 0, 1, 0, 0],\n",
       "       [0, 0, 2, 0, 0, 1],\n",
       "       [0, 0, 0, 2, 0, 0]])"
      ]
     },
     "execution_count": 35,
     "metadata": {},
     "output_type": "execute_result"
    }
   ],
   "source": [
    "A"
   ]
  },
  {
   "cell_type": "code",
   "execution_count": 36,
   "metadata": {},
   "outputs": [
    {
     "name": "stdout",
     "output_type": "stream",
     "text": [
      "  (0, 0)\t0.5\n",
      "  (0, 3)\t0.5\n",
      "  (1, 2)\t1.0\n",
      "  (1, 5)\t0.5\n",
      "  (2, 3)\t1.0\n"
     ]
    }
   ],
   "source": [
    "print(S / 2)"
   ]
  },
  {
   "cell_type": "code",
   "execution_count": 37,
   "metadata": {},
   "outputs": [
    {
     "name": "stdout",
     "output_type": "stream",
     "text": [
      "[[2 0 2]\n",
      " [0 5 0]\n",
      " [2 0 4]]\n"
     ]
    }
   ],
   "source": [
    "print(S.dot(S.T).todense())"
   ]
  },
  {
   "cell_type": "code",
   "execution_count": 38,
   "metadata": {},
   "outputs": [
    {
     "name": "stdout",
     "output_type": "stream",
     "text": [
      "  (0, 2)\t2\n",
      "  (0, 0)\t2\n",
      "  (1, 1)\t5\n",
      "  (2, 2)\t4\n",
      "  (2, 0)\t2\n"
     ]
    }
   ],
   "source": [
    "print(S.dot(S.T))"
   ]
  },
  {
   "cell_type": "markdown",
   "metadata": {},
   "source": [
    "### 2. Матрицы Тоеплица (или Тёплица)\n",
    "\n",
    "Матрица Тоеплица - это матрица, у которой на диагоналях, параллельных главной, стоят одинаковые элементы \n",
    "\n",
    "<img src=\"pic_1.png\">\n"
   ]
  },
  {
   "cell_type": "markdown",
   "metadata": {},
   "source": [
    "**Применение**\n",
    "\n",
    "Для упрощения вычислений:\n",
    "* автокорреляции\n",
    "* кросс-корреляции\n",
    "* конволюции (свертки)\n",
    "* скользящего среднего\n",
    "* и т.д."
   ]
  },
  {
   "cell_type": "code",
   "execution_count": 39,
   "metadata": {},
   "outputs": [
    {
     "data": {
      "text/plain": [
       "array([0, 1, 2, 3, 4])"
      ]
     },
     "execution_count": 39,
     "metadata": {},
     "output_type": "execute_result"
    }
   ],
   "source": [
    "np.arange(5)"
   ]
  },
  {
   "cell_type": "code",
   "execution_count": 40,
   "metadata": {},
   "outputs": [
    {
     "name": "stdout",
     "output_type": "stream",
     "text": [
      "[[0 1 2 3 4]\n",
      " [1 0 1 2 3]\n",
      " [2 1 0 1 2]\n",
      " [3 2 1 0 1]\n",
      " [4 3 2 1 0]]\n"
     ]
    }
   ],
   "source": [
    "from scipy import linalg\n",
    "print(sp.linalg.toeplitz(np.arange(5)))"
   ]
  },
  {
   "cell_type": "code",
   "execution_count": 41,
   "metadata": {},
   "outputs": [
    {
     "name": "stdout",
     "output_type": "stream",
     "text": [
      "[[ 0 11 12 13 14]\n",
      " [ 1  0 11 12 13]\n",
      " [ 2  1  0 11 12]\n",
      " [ 3  2  1  0 11]\n",
      " [ 4  3  2  1  0]]\n"
     ]
    }
   ],
   "source": [
    "print(sp.linalg.toeplitz(np.arange(5), [1, 11, 12,13, 14]))"
   ]
  },
  {
   "cell_type": "markdown",
   "metadata": {},
   "source": [
    "**Рассмотрим пример:**\n",
    "    \n",
    "Скользящее среднее (moving average, running average, rolling average) - это среднее значение за какой-то период, которое нужно вычислять с какой-то периодичностью.\n",
    "\n",
    "Например:\n",
    "* средняя выручка за последние 5 дней, которую необходимо считать на ежедневной основе\n",
    "* среднее кол-во уникальных посетителей приложения за последние 3 дня\n",
    "\n",
    "**Задача**:\n",
    "\n",
    "Есть (искусственный) массив, содержащий кол-во просмотров рекламной акции за последние 30 дней. Посчитать скользящее среднее за 5 дней на ежедневной основе."
   ]
  },
  {
   "cell_type": "code",
   "execution_count": 42,
   "metadata": {},
   "outputs": [
    {
     "name": "stdout",
     "output_type": "stream",
     "text": [
      "[102 435 860 270 106  71 700  20 614 121 466 214 330 458  87 372  99 871\n",
      " 663 130 661 308 769 343 491 413 805 385 191 955]\n"
     ]
    }
   ],
   "source": [
    "# создаем массив из случайных чисел, соответствующий просмотрам акции\n",
    "np.random.seed(42)\n",
    "ad_views = np.random.randint(low=0, high=1000, size=30)\n",
    "print(ad_views)"
   ]
  },
  {
   "cell_type": "code",
   "execution_count": 43,
   "metadata": {},
   "outputs": [
    {
     "name": "stdout",
     "output_type": "stream",
     "text": [
      "[[102.   0.   0.   0.   0.]\n",
      " [435. 102.   0.   0.   0.]\n",
      " [860. 435. 102.   0.   0.]\n",
      " [270. 860. 435. 102.   0.]\n",
      " [106. 270. 860. 435. 102.]\n",
      " [ 71. 106. 270. 860. 435.]\n",
      " [700.  71. 106. 270. 860.]\n",
      " [ 20. 700.  71. 106. 270.]\n",
      " [614.  20. 700.  71. 106.]\n",
      " [121. 614.  20. 700.  71.]\n",
      " [466. 121. 614.  20. 700.]\n",
      " [214. 466. 121. 614.  20.]\n",
      " [330. 214. 466. 121. 614.]\n",
      " [458. 330. 214. 466. 121.]\n",
      " [ 87. 458. 330. 214. 466.]\n",
      " [372.  87. 458. 330. 214.]\n",
      " [ 99. 372.  87. 458. 330.]\n",
      " [871.  99. 372.  87. 458.]\n",
      " [663. 871.  99. 372.  87.]\n",
      " [130. 663. 871.  99. 372.]\n",
      " [661. 130. 663. 871.  99.]\n",
      " [308. 661. 130. 663. 871.]\n",
      " [769. 308. 661. 130. 663.]\n",
      " [343. 769. 308. 661. 130.]\n",
      " [491. 343. 769. 308. 661.]\n",
      " [413. 491. 343. 769. 308.]\n",
      " [805. 413. 491. 343. 769.]\n",
      " [385. 805. 413. 491. 343.]\n",
      " [191. 385. 805. 413. 491.]\n",
      " [955. 191. 385. 805. 413.]]\n"
     ]
    }
   ],
   "source": [
    "# создаем матрицу Тоеплица\n",
    "help_toeplitz = sp.linalg.toeplitz(ad_views, np.zeros(5))\n",
    "print(help_toeplitz)"
   ]
  },
  {
   "cell_type": "code",
   "execution_count": 44,
   "metadata": {},
   "outputs": [
    {
     "data": {
      "text/plain": [
       "array([354.6, 348.4, 401.4, 233.4, 302.2, 305.2, 384.2, 287. , 349. ,\n",
       "       317.8, 311. , 292.2, 269.2, 377.4, 418.4, 427. , 484.8, 526.6,\n",
       "       506.2, 442.2, 514.4, 464.8, 564.2, 487.4, 457. , 549.8])"
      ]
     },
     "execution_count": 44,
     "metadata": {},
     "output_type": "execute_result"
    }
   ],
   "source": [
    "# считаем скользящее среднее\n",
    "help_toeplitz.mean(axis=1)[4:]"
   ]
  },
  {
   "cell_type": "markdown",
   "metadata": {},
   "source": [
    "### 3. SVD разложение (сингулярное разложение)\n",
    "\n",
    "SVD разложение - широкоиспользуемый метод понижения размерности, в том числе для задач машинного обучения.\n",
    "\n",
    "**Просто о сложном**\n",
    "\n",
    "Мы хотим научиться предсказывать, например, к какому классу принадлежит цветок ирисов по каким-то данным. Наши данные - это матрица A, в которой по столбцам хранятся признаки, а по строкам - различные наблюдения.\n",
    "\n",
    "Матрицу А можно представить в виде $A = U\\Sigma V^*$, где:\n",
    "\n",
    "* $\\Sigma$ - матрица, у которой по диагонали стоят так называемые сингулярные числа матрицы А\n",
    "* $U$ - матрица из левых сингулярных векторов\n",
    "* $V^*$ - сопряженно-транспонированная матрица их правых сингулярных векторов\n",
    "\n",
    "При этом, $U$ и $V$ - так называемые унитарные матрицы, т.е. $UU^* = I$ и $VV^* = I$, $I$ = единичная матрица, т.е. матрица с единичками по диагонали (остальные элементы нулевые)\n",
    "\n",
    "**Зачем все это нужно?**\n",
    "\n",
    "Теорема Эккарта-Янга в вольном изложении :)\n",
    "\n",
    "Исходную матрицу $А$ можно, в каком-то смысле, наилучшим образом приблизить другой матрицей меньшей размерности $A_k$.\n",
    "\n",
    "В каком смысле наилучшим образом? Фробениусова норма разности матриц $A$ и $A_k$ минимальна, при ограничении $rank(A_k) = k$.\n",
    "\n",
    "Такая матрица $A_k$ получается из сингулярного разложения $A_k = U_k\\Sigma_k V^{*}_{k}$, где используются только k первых сингулярных чисел матрицы $А$.\n",
    "\n",
    "\n",
    "**Пример**"
   ]
  },
  {
   "cell_type": "code",
   "execution_count": 45,
   "metadata": {},
   "outputs": [
    {
     "name": "stdout",
     "output_type": "stream",
     "text": [
      "[[6 3 7]\n",
      " [4 6 9]\n",
      " [2 6 7]]\n"
     ]
    }
   ],
   "source": [
    "np.random.seed(42)\n",
    "A = np.random.randint(low=0, high=10, size=(3,3))\n",
    "print(A)"
   ]
  },
  {
   "cell_type": "code",
   "execution_count": 46,
   "metadata": {},
   "outputs": [],
   "source": [
    "A_ = A.dot(A.T)"
   ]
  },
  {
   "cell_type": "code",
   "execution_count": 47,
   "metadata": {},
   "outputs": [
    {
     "data": {
      "text/plain": [
       "array([[1., 0., 0.],\n",
       "       [0., 1., 0.],\n",
       "       [0., 0., 1.]])"
      ]
     },
     "execution_count": 47,
     "metadata": {},
     "output_type": "execute_result"
    }
   ],
   "source": [
    "np.eye(3)"
   ]
  },
  {
   "cell_type": "code",
   "execution_count": 48,
   "metadata": {},
   "outputs": [
    {
     "data": {
      "text/plain": [
       "array([[17.40194601,  0.        ,  0.        ],\n",
       "       [ 0.        ,  3.61808556,  0.        ],\n",
       "       [ 0.        ,  0.        ,  0.28588795]])"
      ]
     },
     "execution_count": 48,
     "metadata": {},
     "output_type": "execute_result"
    }
   ],
   "source": [
    "np.sqrt(np.linalg.eigvals(A_)) * np.eye(3)"
   ]
  },
  {
   "cell_type": "code",
   "execution_count": 49,
   "metadata": {},
   "outputs": [],
   "source": [
    "U, S, V = np.linalg.svd(A)"
   ]
  },
  {
   "cell_type": "markdown",
   "metadata": {},
   "source": [
    "**Пример с цветами Ириса**"
   ]
  },
  {
   "cell_type": "code",
   "execution_count": 50,
   "metadata": {},
   "outputs": [],
   "source": [
    "from sklearn.datasets import load_iris\n",
    "data = load_iris()"
   ]
  },
  {
   "cell_type": "code",
   "execution_count": 51,
   "metadata": {},
   "outputs": [
    {
     "data": {
      "text/plain": [
       "array([[5.1, 3.5, 1.4, 0.2],\n",
       "       [4.9, 3. , 1.4, 0.2],\n",
       "       [4.7, 3.2, 1.3, 0.2],\n",
       "       [4.6, 3.1, 1.5, 0.2],\n",
       "       [5. , 3.6, 1.4, 0.2]])"
      ]
     },
     "execution_count": 51,
     "metadata": {},
     "output_type": "execute_result"
    }
   ],
   "source": [
    "data_ = data.data\n",
    "data_[:5]"
   ]
  },
  {
   "cell_type": "code",
   "execution_count": 52,
   "metadata": {},
   "outputs": [],
   "source": [
    "U, S, V = np.linalg.svd(data_)"
   ]
  },
  {
   "cell_type": "code",
   "execution_count": 53,
   "metadata": {},
   "outputs": [
    {
     "data": {
      "text/plain": [
       "array([95.95991387, 17.76103366,  3.46093093,  1.88482631])"
      ]
     },
     "execution_count": 53,
     "metadata": {},
     "output_type": "execute_result"
    }
   ],
   "source": [
    "S"
   ]
  },
  {
   "cell_type": "code",
   "execution_count": 54,
   "metadata": {},
   "outputs": [
    {
     "data": {
      "image/png": "[encoded data removed]",
      "text/plain": [
       "<matplotlib.figure.Figure at 0x1d761937048>"
      ]
     },
     "metadata": {
      "needs_background": "light"
     },
     "output_type": "display_data"
    }
   ],
   "source": [
    "plt.plot(S)\n",
    "plt.show()"
   ]
  },
  {
   "cell_type": "code",
   "execution_count": 55,
   "metadata": {},
   "outputs": [],
   "source": [
    "A_2 = (U[:, :2].dot(S[:2] * np.eye(2))).dot(V[:2, :2])"
   ]
  },
  {
   "cell_type": "code",
   "execution_count": 56,
   "metadata": {},
   "outputs": [],
   "source": [
    "data_f = pd.DataFrame(A_2)\n",
    "data_f.head()\n",
    "data_f['target'] = data.target"
   ]
  },
  {
   "cell_type": "code",
   "execution_count": 57,
   "metadata": {},
   "outputs": [
    {
     "name": "stderr",
     "output_type": "stream",
     "text": [
      "C:\\ProgramData\\Anaconda3\\lib\\site-packages\\statsmodels\\nonparametric\\kde.py:488: RuntimeWarning: invalid value encountered in true_divide\n",
      "  binned = fast_linbin(X, a, b, gridsize) / (delta * nobs)\n",
      "C:\\ProgramData\\Anaconda3\\lib\\site-packages\\statsmodels\\nonparametric\\kdetools.py:34: RuntimeWarning: invalid value encountered in double_scalars\n",
      "  FAC1 = 2*(np.pi*bw/RANGE)**2\n",
      "C:\\ProgramData\\Anaconda3\\lib\\site-packages\\numpy\\core\\fromnumeric.py:83: RuntimeWarning: invalid value encountered in reduce\n",
      "  return ufunc.reduce(obj, axis, dtype, out, **passkwargs)\n"
     ]
    },
    {
     "data": {
      "image/png": "[encoded data removed]",
      "text/plain": [
       "<matplotlib.figure.Figure at 0x1d761db2320>"
      ]
     },
     "metadata": {
      "needs_background": "light"
     },
     "output_type": "display_data"
    }
   ],
   "source": [
    "sns.pairplot(data_f, hue='target')\n",
    "plt.show()"
   ]
  }
 ],
 "metadata": {
  "kernelspec": {
   "display_name": "Python 3",
   "language": "python",
   "name": "python3"
  },
  "language_info": {
   "codemirror_mode": {
    "name": "ipython",
    "version": 3
   },
   "file_extension": ".py",
   "mimetype": "text/x-python",
   "name": "python",
   "nbconvert_exporter": "python",
   "pygments_lexer": "ipython3",
   "version": "3.7.3"
  }
 },
 "nbformat": 4,
 "nbformat_minor": 2
}
