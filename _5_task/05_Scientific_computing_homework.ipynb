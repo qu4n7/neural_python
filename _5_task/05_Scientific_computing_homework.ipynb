{
 "cells": [
  {
   "cell_type": "markdown",
   "metadata": {},
   "source": [
    "# Python для Анализа Данных\n",
    "\n",
    "# Домашнее задание 5: Научные вычисления с NumPy и SciPy\n",
    "\n",
    "## Задачи Light"
   ]
  },
  {
   "cell_type": "markdown",
   "metadata": {},
   "source": [
    "### Задача 1: Вычисления по цепочке\n",
    "\n",
    "Напишите функцию, которая возвращает значение следующей математической функции в зависимости от переменной х, где x - одномерный вектор.\n",
    "\n",
    "$f(x) = \\frac{1}{2}x^2 arctg(x) + 5cos(2x) + e^{x} + \\log{6x}$\n",
    "\n",
    "Проверьте работу функции на заданном векторе\n",
    "\n",
    "P.S. косинус, арктангенс и т.д. доступны в библиотеке numpy: np.arctan() ..."
   ]
  },
  {
   "cell_type": "code",
   "execution_count": 52,
   "metadata": {},
   "outputs": [],
   "source": [
    "import numpy as np\n",
    "x = np.array([3, 5, 8])"
   ]
  },
  {
   "cell_type": "code",
   "execution_count": 53,
   "metadata": {},
   "outputs": [
    {
     "name": "stdout",
     "output_type": "stream",
     "text": [
      "для вектора x: [3 5 8] функция принимает значения: [31.762366837334948, 162.8624322987267, 3024.1370535094275]\n"
     ]
    }
   ],
   "source": [
    "rslt = []\n",
    "for i in x:\n",
    "    rslt.append(0.5 * i ** 2 * np.arctan(i) + 5 * np.cos(2 * i) + np.exp(i) + np.log10(6*i))\n",
    "print(f'для вектора x: {x} функция принимает значения: {rslt}')"
   ]
  },
  {
   "cell_type": "markdown",
   "metadata": {},
   "source": [
    "### Задача 2: Вычисления по цепочке\n",
    "\n",
    "Напишите функцию, которая вычисляет значение следующей математической функции в зависимости от переменной х, где х - вектор\n",
    "\n",
    "$F(x) = \\frac{3}{4}AA^Tx + Bx + c$\n"
   ]
  },
  {
   "cell_type": "code",
   "execution_count": 54,
   "metadata": {},
   "outputs": [],
   "source": [
    "np.random.seed(42)\n",
    "\n",
    "A = np.random.randint(low=1, high=5, size=(3,3))\n",
    "B = np.random.randint(low=1, high=5, size=(3,3))\n",
    "c = np.random.randint(low=1, high=5, size=(3))\n",
    "c = np.random.randint(low=1, high=5, size=(3))"
   ]
  },
  {
   "cell_type": "code",
   "execution_count": 55,
   "metadata": {},
   "outputs": [
    {
     "data": {
      "text/plain": [
       "array([[3, 4, 1],\n",
       "       [3, 3, 4],\n",
       "       [1, 1, 3]])"
      ]
     },
     "execution_count": 55,
     "metadata": {},
     "output_type": "execute_result"
    }
   ],
   "source": [
    "A"
   ]
  },
  {
   "cell_type": "code",
   "execution_count": 56,
   "metadata": {},
   "outputs": [
    {
     "data": {
      "text/plain": [
       "array([[2, 3, 3],\n",
       "       [3, 3, 4],\n",
       "       [1, 4, 4]])"
      ]
     },
     "execution_count": 56,
     "metadata": {},
     "output_type": "execute_result"
    }
   ],
   "source": [
    "B"
   ]
  },
  {
   "cell_type": "code",
   "execution_count": 57,
   "metadata": {},
   "outputs": [
    {
     "data": {
      "text/plain": [
       "array([1, 2, 4])"
      ]
     },
     "execution_count": 57,
     "metadata": {},
     "output_type": "execute_result"
    }
   ],
   "source": [
    "c"
   ]
  },
  {
   "cell_type": "code",
   "execution_count": 58,
   "metadata": {},
   "outputs": [
    {
     "data": {
      "text/plain": [
       "array([3, 5, 8])"
      ]
     },
     "execution_count": 58,
     "metadata": {},
     "output_type": "execute_result"
    }
   ],
   "source": [
    "x"
   ]
  },
  {
   "cell_type": "code",
   "execution_count": 59,
   "metadata": {},
   "outputs": [
    {
     "data": {
      "text/plain": [
       "array([258.25, 349.75, 215.  ])"
      ]
     },
     "execution_count": 59,
     "metadata": {},
     "output_type": "execute_result"
    }
   ],
   "source": [
    "# функция\n",
    "3 / 4 * A.dot(A.T).dot(x) + B.dot(x) + c"
   ]
  },
  {
   "cell_type": "markdown",
   "metadata": {},
   "source": [
    "### Задача 3: \n",
    "\n",
    "Дана разреженная матрица, преобразуйте ее в csr формат, посчитайте долю разреженности, т.е. содержания нулей"
   ]
  },
  {
   "cell_type": "code",
   "execution_count": 60,
   "metadata": {},
   "outputs": [],
   "source": [
    "# фиксируем сид\n",
    "np.random.seed(42)\n",
    "\n",
    "A = np.eye(50)\n",
    "A[5, :] = np.random.randint(low=0, high=2, size = (50))\n",
    "A[31, :] = np.random.randint(low=0, high=2, size = (50))\n",
    "A[:, 49] = np.random.randint(low=0, high=2, size = (50))"
   ]
  },
  {
   "cell_type": "code",
   "execution_count": 61,
   "metadata": {},
   "outputs": [
    {
     "data": {
      "text/plain": [
       "array([[1., 0., 0., ..., 0., 0., 0.],\n",
       "       [0., 1., 0., ..., 0., 0., 1.],\n",
       "       [0., 0., 1., ..., 0., 0., 1.],\n",
       "       ...,\n",
       "       [0., 0., 0., ..., 1., 0., 0.],\n",
       "       [0., 0., 0., ..., 0., 1., 0.],\n",
       "       [0., 0., 0., ..., 0., 0., 1.]])"
      ]
     },
     "execution_count": 61,
     "metadata": {},
     "output_type": "execute_result"
    }
   ],
   "source": [
    "A"
   ]
  },
  {
   "cell_type": "code",
   "execution_count": 62,
   "metadata": {},
   "outputs": [
    {
     "name": "stdout",
     "output_type": "stream",
     "text": [
      "размер исходной матрицы (50, 50)\n"
     ]
    }
   ],
   "source": [
    "print(f'размер исходной матрицы {A.shape}')"
   ]
  },
  {
   "cell_type": "code",
   "execution_count": 63,
   "metadata": {},
   "outputs": [],
   "source": [
    "from scipy.sparse import csr_matrix"
   ]
  },
  {
   "cell_type": "code",
   "execution_count": 64,
   "metadata": {},
   "outputs": [
    {
     "name": "stdout",
     "output_type": "stream",
     "text": [
      "размер csr матрицы (50, 50)\n",
      "\n",
      "первые строки матрицы:\n",
      "  (0, 0)\t1.0\n",
      "  (1, 1)\t1.0\n",
      "  (1, 49)\t1.0\n",
      "  (2, 2)\t1.0\n",
      "  (2, 49)\t1.0\n",
      "  (3, 3)\t1.0\n",
      "  (3, 49)\t1.0\n",
      "  (4, 4)\t1.0\n",
      "  (4, 49)\t1.0\n"
     ]
    }
   ],
   "source": [
    "A_csr = csr_matrix(A)\n",
    "print(f'размер csr матрицы {A_csr.shape}')\n",
    "print(f'\\nпервые строки матрицы:\\n{A_csr[:5]}')"
   ]
  },
  {
   "cell_type": "code",
   "execution_count": 65,
   "metadata": {},
   "outputs": [
    {
     "name": "stdout",
     "output_type": "stream",
     "text": [
      "доля разряженности: 0.9488\n"
     ]
    }
   ],
   "source": [
    "print(f'доля разряженности: {1 - np.count_nonzero(A) / A.size}')"
   ]
  },
  {
   "cell_type": "markdown",
   "metadata": {},
   "source": [
    "### Задача 4\n",
    "\n",
    "Даны две разреженные матрицы, преобразуйте их в формат csr и посчитайте:\n",
    "\n",
    "* сумму двух матриц\n",
    "* матричное произведение двух матриц\n",
    "* выведите на экран сумму и произведение, предварительно преобразовав их обратно в \"плотный\" формат (метод .todense)"
   ]
  },
  {
   "cell_type": "code",
   "execution_count": 66,
   "metadata": {},
   "outputs": [],
   "source": [
    "# фиксируем сид\n",
    "np.random.seed(42)\n",
    "\n",
    "A = np.eye(50)\n",
    "A[2, :] = np.random.randint(low=0, high=2, size = (50))\n",
    "A[37, :] = np.random.randint(low=0, high=2, size = (50))\n",
    "A[:, 44] = np.random.randint(low=0, high=2, size = (50))\n",
    "\n",
    "B = np.zeros((50,50))\n",
    "B[2, :] = np.random.randint(low=0, high=2, size = (50))\n",
    "B[37, :] = np.random.randint(low=0, high=2, size = (50))\n",
    "B[:, 44] = np.random.randint(low=0, high=2, size = (50))"
   ]
  },
  {
   "cell_type": "code",
   "execution_count": 67,
   "metadata": {},
   "outputs": [],
   "source": [
    "# преобразую в csr\n",
    "A_csr = csr_matrix(A)\n",
    "B_csr = csr_matrix(B)"
   ]
  },
  {
   "cell_type": "code",
   "execution_count": 68,
   "metadata": {},
   "outputs": [
    {
     "name": "stdout",
     "output_type": "stream",
     "text": [
      "A:\n",
      "  (0, 0)\t1.0\n",
      "  (1, 1)\t1.0\n",
      "  (1, 44)\t1.0\n",
      "B:\n",
      "  (0, 44)\t1.0\n"
     ]
    }
   ],
   "source": [
    "# для ручной проверки выведу пару строк\n",
    "n = 2\n",
    "print(f'A:\\n{(A_csr)[:n]}')\n",
    "print(f'B:\\n{(B_csr)[:n]}')"
   ]
  },
  {
   "cell_type": "code",
   "execution_count": 69,
   "metadata": {},
   "outputs": [
    {
     "name": "stdout",
     "output_type": "stream",
     "text": [
      "сумма матриц:\n",
      "  (0, 0)\t1.0\n",
      "  (0, 44)\t1.0\n",
      "  (1, 1)\t1.0\n",
      "  (1, 44)\t1.0\n"
     ]
    }
   ],
   "source": [
    "# суммирую матрицы, вывожу n первых строк\n",
    "sum_csr = A_csr + B_csr\n",
    "print(f'сумма матриц:\\n{sum_csr[:n]}')"
   ]
  },
  {
   "cell_type": "code",
   "execution_count": 70,
   "metadata": {},
   "outputs": [
    {
     "name": "stdout",
     "output_type": "stream",
     "text": [
      "произвдеение матриц A на B:\n",
      "  (0, 44)\t1.0\n",
      "  (1, 44)\t1.0\n"
     ]
    }
   ],
   "source": [
    "# перемножаю матрицы, вывожу n первых строк\n",
    "mlt_csr = A_csr.dot(B_csr)\n",
    "print(f'произвдеение матриц A на B:\\n{mlt_csr[:n]}')"
   ]
  },
  {
   "cell_type": "code",
   "execution_count": 71,
   "metadata": {},
   "outputs": [
    {
     "name": "stdout",
     "output_type": "stream",
     "text": [
      "(50, 50)\n"
     ]
    }
   ],
   "source": [
    "# на всякий чекаю размерность\n",
    "print((A_csr.dot(B_csr)).shape)"
   ]
  },
  {
   "cell_type": "code",
   "execution_count": 72,
   "metadata": {},
   "outputs": [
    {
     "data": {
      "text/plain": [
       "matrix([[1., 0., 0., ..., 0., 0., 0.],\n",
       "        [0., 1., 0., ..., 0., 0., 0.],\n",
       "        [0., 1., 0., ..., 1., 1., 1.],\n",
       "        ...,\n",
       "        [0., 0., 0., ..., 1., 0., 0.],\n",
       "        [0., 0., 0., ..., 0., 1., 0.],\n",
       "        [0., 0., 0., ..., 0., 0., 1.]])"
      ]
     },
     "execution_count": 72,
     "metadata": {},
     "output_type": "execute_result"
    }
   ],
   "source": [
    "# сумма в стандартном формате\n",
    "sum_csr.todense()"
   ]
  },
  {
   "cell_type": "code",
   "execution_count": 73,
   "metadata": {},
   "outputs": [
    {
     "data": {
      "text/plain": [
       "matrix([[0., 0., 0., ..., 0., 0., 0.],\n",
       "        [0., 0., 0., ..., 0., 0., 0.],\n",
       "        [0., 0., 0., ..., 0., 0., 0.],\n",
       "        ...,\n",
       "        [0., 0., 0., ..., 0., 0., 0.],\n",
       "        [0., 0., 0., ..., 0., 0., 0.],\n",
       "        [0., 0., 0., ..., 0., 0., 0.]])"
      ]
     },
     "execution_count": 73,
     "metadata": {},
     "output_type": "execute_result"
    }
   ],
   "source": [
    "# сумма в стандартном формате\n",
    "mlt_csr.todense()"
   ]
  },
  {
   "cell_type": "code",
   "execution_count": 74,
   "metadata": {},
   "outputs": [
    {
     "name": "stdout",
     "output_type": "stream",
     "text": [
      "сумма элемент [0,44]: csr матрица 1.0, стандартная форма: 1.0\n",
      "произведение элемент [1,44]: csr матрица 1.0, стандартная форма: 1.0\n"
     ]
    }
   ],
   "source": [
    "# для интереса сравню элемент суммированной матрицы в двух форматах\n",
    "print(f'сумма элемент [0,44]: csr матрица {sum_csr[0,44]}, стандартная форма: {mlt_csr.todense()[0, 44]}')\n",
    "# аналогично для произведения\n",
    "print(f'произведение элемент [1,44]: csr матрица {mlt_csr[1,44]}, стандартная форма: {mlt_csr.todense()[1, 44]}')"
   ]
  },
  {
   "cell_type": "markdown",
   "metadata": {},
   "source": [
    "## Задачи Pro"
   ]
  },
  {
   "cell_type": "markdown",
   "metadata": {},
   "source": [
    "### Задача 5\n",
    "\n",
    "Даны данные о кол-ве посетителей мобильного приложения за 3 месяца на ежедневной основе. С помощью матрицы Тоеплица посчитайте значения показателя Sticky Factor за весь период\n",
    "\n",
    "$Sticky Factor = \\frac{DAU}{MAU}$, где\n",
    "\n",
    "* MAU - Monthly Active Users, кол-во посетителей за месяц, считается на ежедневной основе как сумма кол-ва посетителей за 30 дней (т.е. каждый день берется окно в 30 дней назад) - это нужно посчитать\n",
    "* DAU - Daily Active Users, кол-во уникальных посетителей за день - эти данные нам уже даны\n",
    "\n",
    "Нужно посчитать исторические значения Sticky Factor (SF) на ежедневной основе начиная с момента, как SF определен, т.е. начиная с 30го дня."
   ]
  },
  {
   "cell_type": "code",
   "execution_count": 75,
   "metadata": {},
   "outputs": [],
   "source": [
    "np.random.seed(42)\n",
    "\n",
    "DAU = np.random.randint(low=0, high=2000, size = (30*3))"
   ]
  },
  {
   "cell_type": "code",
   "execution_count": 76,
   "metadata": {},
   "outputs": [
    {
     "data": {
      "text/plain": [
       "array([1126, 1459,  860, 1294, 1130, 1095, 1724, 1044, 1638,  121,  466,\n",
       "       1238,  330, 1482,   87, 1396, 1123,  871, 1687,  130, 1685, 1332,\n",
       "        769,  343, 1515, 1437,  805,  385, 1215,  955,  276, 1184,  459,\n",
       "       1337,   21,  252,  747,  856, 1584,  474, 1082,  510, 1705, 1499,\n",
       "        699,  975, 1806,  189,  957,  686,  957,  562, 1899, 1590, 1267,\n",
       "        831, 1528, 1154, 1508, 1842,  646,   20,  840,  166, 1297,  387,\n",
       "        600,  315,   13,  241,  776, 1369,  564,  897, 1363,   91, 1390,\n",
       "        955, 1478, 1451,  508,  775, 1966,   34,  205, 1104, 1955, 1585,\n",
       "       1895, 1411])"
      ]
     },
     "execution_count": 76,
     "metadata": {},
     "output_type": "execute_result"
    }
   ],
   "source": [
    "DAU"
   ]
  },
  {
   "cell_type": "code",
   "execution_count": 77,
   "metadata": {},
   "outputs": [],
   "source": [
    "import scipy as sp\n",
    "from scipy import linalg"
   ]
  },
  {
   "cell_type": "code",
   "execution_count": 78,
   "metadata": {},
   "outputs": [],
   "source": [
    "# формирую матрицу топлица на данных DAU для периода, размерность 90 * 30\n",
    "DAU_tplz = sp.linalg.toeplitz(DAU, np.zeros(30))"
   ]
  },
  {
   "cell_type": "code",
   "execution_count": 79,
   "metadata": {},
   "outputs": [
    {
     "name": "stdout",
     "output_type": "stream",
     "text": [
      "день, sticky factor:\n",
      "(29, 37.53333333333333)\n",
      "(30, 86.16666666666667)\n",
      "(31, 114.83333333333333)\n",
      "(32, 157.96666666666667)\n",
      "(33, 195.63333333333333)\n",
      "(34, 232.13333333333333)\n",
      "(35, 289.6)\n",
      "(36, 324.4)\n",
      "(37, 379.0)\n",
      "(38, 383.03333333333336)\n",
      "(39, 398.56666666666666)\n",
      "(40, 439.8333333333333)\n",
      "(41, 450.8333333333333)\n",
      "(42, 500.23333333333335)\n",
      "(43, 503.1333333333333)\n",
      "(44, 549.6666666666666)\n",
      "(45, 587.1)\n",
      "(46, 616.1333333333333)\n",
      "(47, 672.3666666666667)\n",
      "(48, 676.7)\n",
      "(49, 732.8666666666667)\n",
      "(50, 777.2666666666667)\n",
      "(51, 802.9)\n",
      "(52, 814.3333333333334)\n",
      "(53, 864.8333333333334)\n",
      "(54, 912.7333333333333)\n",
      "(55, 939.5666666666667)\n",
      "(56, 952.4)\n",
      "(57, 992.9)\n",
      "(58, 1024.7333333333333)\n",
      "(59, 996.4)\n",
      "(60, 987.2333333333333)\n",
      "(61, 973.8666666666667)\n",
      "(62, 975.3)\n",
      "(63, 938.3333333333334)\n",
      "(64, 910.2333333333333)\n",
      "(65, 877.6666666666666)\n",
      "(66, 871.4)\n",
      "(67, 869.6)\n",
      "(68, 881.3666666666667)\n",
      "(69, 901.9)\n",
      "(70, 877.6333333333333)\n",
      "(71, 923.4666666666667)\n",
      "(72, 924.0333333333333)\n",
      "(73, 944.4333333333333)\n",
      "(74, 930.4)\n",
      "(75, 953.1666666666666)\n",
      "(76, 930.4333333333333)\n",
      "(77, 906.1)\n",
      "(78, 924.6333333333333)\n",
      "(79, 900.3666666666667)\n",
      "(80, 874.7)\n",
      "(81, 912.3666666666667)\n",
      "(82, 953.9333333333333)\n",
      "(83, 945.6666666666666)\n",
      "(84, 925.4666666666667)\n",
      "(85, 949.5666666666667)\n",
      "(86, 975.2)\n",
      "(87, 984.9666666666667)\n",
      "(88, 1014.5333333333333)\n",
      "(89, 1026.8666666666666)\n"
     ]
    }
   ],
   "source": [
    "# sticky factor\n",
    "sf = DAU_tplz.mean(axis=1)\n",
    "# хочу вывести результат по дням\n",
    "days = np.arange(29, len(DAU_tplz))\n",
    "print('день, sticky factor:')\n",
    "rslt = list(zip(days,sf))\n",
    "for i in range(len(rslt)):\n",
    "    print(rslt[i])"
   ]
  },
  {
   "cell_type": "markdown",
   "metadata": {},
   "source": [
    "### Задача 6\n",
    "\n",
    "Есть данные о продажах домов за период. Код для подгрузки данных приведен ниже. \n",
    "\n",
    "* Для подгруженных данных, сделайте SVD разложение\n",
    "* Нарисуйте график динамики сингулярных значений (код приведен)\n",
    "* Визуально определите наилучший порог отсечения k\n",
    "* Используя этот порог, найдите матрицу меньшей размерности, которая будет наилучшим приближением к исходной."
   ]
  },
  {
   "cell_type": "code",
   "execution_count": 80,
   "metadata": {},
   "outputs": [],
   "source": [
    "import pandas as pd\n",
    "data = pd.read_csv('train.csv', index_col=0)\n",
    "\n",
    "cols = ['MSSubClass', 'LotFrontage', 'LotArea', 'OverallQual', 'OverallCond', 'YearBuilt', 'YearRemodAdd', 'MasVnrArea',\\\n",
    "               'BsmtFinSF1', 'BsmtUnfSF', '2ndFlrSF', 'GrLivArea', 'GarageYrBlt', 'GarageArea','SalePrice', 'YrSold']\n",
    "\n",
    "data = data[cols]\n",
    "data.dropna(inplace=True)\n",
    "data = data.values"
   ]
  },
  {
   "cell_type": "code",
   "execution_count": 81,
   "metadata": {},
   "outputs": [],
   "source": [
    "U, S, V = np.linalg.svd(data)"
   ]
  },
  {
   "cell_type": "code",
   "execution_count": 82,
   "metadata": {},
   "outputs": [
    {
     "name": "stdout",
     "output_type": "stream",
     "text": [
      "data:\n",
      "(1121, 16)\n",
      "U:\n",
      "(1121, 1121)\n",
      "S\n",
      "(16,)\n",
      "V\n",
      "(16, 16)\n"
     ]
    }
   ],
   "source": [
    "# проверяю размерность\n",
    "print(f'data:\\n{data.shape}\\nU:\\n{U.shape}\\nS\\n{S.shape}\\nV\\n{V.shape}')\n"
   ]
  },
  {
   "cell_type": "code",
   "execution_count": 83,
   "metadata": {},
   "outputs": [],
   "source": [
    "import matplotlib.pyplot as plt"
   ]
  },
  {
   "cell_type": "code",
   "execution_count": 84,
   "metadata": {},
   "outputs": [
    {
     "data": {
      "image/png": "[encoded data removed]",
      "text/plain": [
       "<Figure size 720x576 with 1 Axes>"
      ]
     },
     "metadata": {
      "needs_background": "light"
     },
     "output_type": "display_data"
    }
   ],
   "source": [
    "plt.figure(figsize=(10,8))\n",
    "plt.title('Обычная шкала')\n",
    "plt.plot(S)\n",
    "#plt.yscale('log')\n",
    "plt.show()"
   ]
  },
  {
   "cell_type": "code",
   "execution_count": 85,
   "metadata": {},
   "outputs": [
    {
     "data": {
      "image/png": "[encoded data removed]",
      "text/plain": [
       "<Figure size 720x576 with 1 Axes>"
      ]
     },
     "metadata": {
      "needs_background": "light"
     },
     "output_type": "display_data"
    }
   ],
   "source": [
    "import matplotlib.pyplot as plt\n",
    "import seaborn as sns\n",
    "sns.set_style('darkgrid')\n",
    "%matplotlib inline\n",
    "\n",
    "plt.figure(figsize=(10,8))\n",
    "plt.title('Логирифмическая шкала')\n",
    "plt.plot(S)\n",
    "plt.yscale('log')\n",
    "plt.show()"
   ]
  },
  {
   "cell_type": "code",
   "execution_count": 86,
   "metadata": {},
   "outputs": [
    {
     "data": {
      "text/plain": [
       "array([6.81382560e+06, 2.67275328e+05, 5.33256287e+04, 1.90019340e+04,\n",
       "       1.68518341e+04, 9.87117453e+03, 5.43322675e+03, 4.76525052e+03,\n",
       "       4.53066340e+03, 1.29271871e+03, 6.13839586e+02, 5.96389248e+02,\n",
       "       4.08073577e+02, 3.47668796e+02, 2.80474810e+01, 2.41771306e+01])"
      ]
     },
     "execution_count": 86,
     "metadata": {},
     "output_type": "execute_result"
    }
   ],
   "source": [
    "S"
   ]
  },
  {
   "cell_type": "code",
   "execution_count": 87,
   "metadata": {},
   "outputs": [
    {
     "name": "stdout",
     "output_type": "stream",
     "text": [
      "1 0.9999966412215564\n",
      "2 0.9999927447593961\n",
      "3 0.9999444452951218\n",
      "4 0.9998877541701613\n",
      "5 0.9998049015197251\n",
      "6 0.9997196246023309\n",
      "7 0.9995400352293607\n",
      "8 0.9989106183311234\n",
      "9 0.998248611702544\n",
      "10 0.9974938072888515\n",
      "11 0.9961224663817908\n",
      "12 0.9937813458422509\n",
      "13 0.991141525291764\n",
      "14 0.9837333272219873\n",
      "15 0.9466024275575733\n"
     ]
    }
   ],
   "source": [
    "for i in range(1, len(S)):\n",
    "    print(i, S[:-i].sum()/S.sum())"
   ]
  },
  {
   "cell_type": "markdown",
   "metadata": {},
   "source": [
    "Предполагаю, что потрея менее 0,1% не критична, поэтому можно оставить первые 7 элементов."
   ]
  }
 ],
 "metadata": {
  "kernelspec": {
   "display_name": "Python 3",
   "language": "python",
   "name": "python3"
  },
  "language_info": {
   "codemirror_mode": {
    "name": "ipython",
    "version": 3
   },
   "file_extension": ".py",
   "mimetype": "text/x-python",
   "name": "python",
   "nbconvert_exporter": "python",
   "pygments_lexer": "ipython3",
   "version": "3.7.3"
  }
 },
 "nbformat": 4,
 "nbformat_minor": 2
}
