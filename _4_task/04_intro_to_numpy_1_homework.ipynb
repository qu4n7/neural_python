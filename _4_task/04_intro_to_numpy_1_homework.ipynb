{
 "cells": [
  {
   "cell_type": "markdown",
   "metadata": {},
   "source": [
    "# Python для Анализа Данных\n",
    "\n",
    "## Домашнее задание 4"
   ]
  },
  {
   "cell_type": "markdown",
   "metadata": {},
   "source": [
    "### Вариант Light"
   ]
  },
  {
   "cell_type": "code",
   "execution_count": 68,
   "metadata": {},
   "outputs": [],
   "source": [
    "import numpy as np"
   ]
  },
  {
   "cell_type": "markdown",
   "metadata": {},
   "source": [
    "#### Задача 1\n",
    "\n",
    "Подгрузите файл **train_vector.csv** с помощью функции **np.loadtxt**. Назовите подгруженный массив my_array. Убедитесь, что подгруженный массив имеет тип np.ndarray"
   ]
  },
  {
   "cell_type": "code",
   "execution_count": 69,
   "metadata": {},
   "outputs": [
    {
     "name": "stdout",
     "output_type": "stream",
     "text": [
      "тип файла:<class 'numpy.ndarray'>\n"
     ]
    }
   ],
   "source": [
    "my_array = np.loadtxt('train_vector.csv', delimiter=',')\n",
    "print(f'тип файла:{type(my_array)}')"
   ]
  },
  {
   "cell_type": "markdown",
   "metadata": {},
   "source": [
    "#### Задача 2\n",
    "\n",
    "Возьмите функцию из предыдущих домашних заданий, которая считает сумму всех элементов массива. Примените ее к my_array."
   ]
  },
  {
   "cell_type": "code",
   "execution_count": 70,
   "metadata": {},
   "outputs": [
    {
     "data": {
      "text/plain": [
       "458.60000000000014"
      ]
     },
     "execution_count": 70,
     "metadata": {},
     "output_type": "execute_result"
    }
   ],
   "source": [
    "def sum_(array):\n",
    "    sum_ = 0\n",
    "    for i in array:\n",
    "        sum_ += i\n",
    "    return sum_\n",
    "\n",
    "sum_(my_array)"
   ]
  },
  {
   "cell_type": "markdown",
   "metadata": {},
   "source": [
    "#### Задача 3\n",
    "\n",
    "Напишите функцию, которая считает среднее значение всех элементов массива. Примените ее к подгруженному массиву my_array."
   ]
  },
  {
   "cell_type": "code",
   "execution_count": 71,
   "metadata": {},
   "outputs": [
    {
     "data": {
      "text/plain": [
       "3.057333333333334"
      ]
     },
     "execution_count": 71,
     "metadata": {},
     "output_type": "execute_result"
    }
   ],
   "source": [
    "def aver(array):\n",
    "    sum_ = 0\n",
    "    for i in array:\n",
    "        sum_ += i\n",
    "    return sum_ / len(array)\n",
    "\n",
    "aver(my_array)"
   ]
  },
  {
   "cell_type": "markdown",
   "metadata": {},
   "source": [
    "#### Задача 4\n",
    "\n",
    "Напишите функцию, которая ищет минимальный элемент массива. Примените ее к подгруженному массиву my_array"
   ]
  },
  {
   "cell_type": "code",
   "execution_count": 72,
   "metadata": {},
   "outputs": [
    {
     "data": {
      "text/plain": [
       "2.0"
      ]
     },
     "execution_count": 72,
     "metadata": {},
     "output_type": "execute_result"
    }
   ],
   "source": [
    "def min_(array):\n",
    "    min_ = 0\n",
    "    for i in array:\n",
    "        min_ = i if min_ is 0 or i < min_ else min_\n",
    "    return min_\n",
    "\n",
    "min_(my_array)"
   ]
  },
  {
   "cell_type": "markdown",
   "metadata": {},
   "source": [
    "#### Задача 5\n",
    "\n",
    "Сравните производительность по времени с встроенными функциями: \n",
    "\n",
    "(В качестве переменной используйте подгруженный ранее массив my_array)\n",
    "    \n",
    "* np.sum\n",
    "* np.mean\n",
    "* np.min\n",
    "\n",
    "P.S. используйте %%timeit"
   ]
  },
  {
   "cell_type": "markdown",
   "metadata": {},
   "source": [
    "##### суммирование:"
   ]
  },
  {
   "cell_type": "code",
   "execution_count": 73,
   "metadata": {},
   "outputs": [
    {
     "name": "stdout",
     "output_type": "stream",
     "text": [
      "43.6 µs ± 1.52 µs per loop (mean ± std. dev. of 7 runs, 10000 loops each)\n"
     ]
    }
   ],
   "source": [
    "%%timeit\n",
    "sum(my_array)"
   ]
  },
  {
   "cell_type": "code",
   "execution_count": 74,
   "metadata": {},
   "outputs": [
    {
     "name": "stdout",
     "output_type": "stream",
     "text": [
      "4.49 µs ± 142 ns per loop (mean ± std. dev. of 7 runs, 100000 loops each)\n"
     ]
    }
   ],
   "source": [
    "%%timeit\n",
    "my_array.sum()"
   ]
  },
  {
   "cell_type": "code",
   "execution_count": 75,
   "metadata": {},
   "outputs": [
    {
     "name": "stdout",
     "output_type": "stream",
     "text": [
      "49.5 µs ± 519 ns per loop (mean ± std. dev. of 7 runs, 10000 loops each)\n"
     ]
    }
   ],
   "source": [
    "%%timeit\n",
    "sum_(my_array)"
   ]
  },
  {
   "cell_type": "markdown",
   "metadata": {},
   "source": [
    "##### нахождение среднего:"
   ]
  },
  {
   "cell_type": "code",
   "execution_count": 76,
   "metadata": {},
   "outputs": [
    {
     "name": "stdout",
     "output_type": "stream",
     "text": [
      "9.8 µs ± 50.1 ns per loop (mean ± std. dev. of 7 runs, 100000 loops each)\n"
     ]
    }
   ],
   "source": [
    "%%timeit\n",
    "my_array.mean()"
   ]
  },
  {
   "cell_type": "code",
   "execution_count": 77,
   "metadata": {},
   "outputs": [
    {
     "name": "stdout",
     "output_type": "stream",
     "text": [
      "50.2 µs ± 430 ns per loop (mean ± std. dev. of 7 runs, 10000 loops each)\n"
     ]
    }
   ],
   "source": [
    "%%timeit\n",
    "aver(my_array)"
   ]
  },
  {
   "cell_type": "code",
   "execution_count": 78,
   "metadata": {},
   "outputs": [
    {
     "name": "stdout",
     "output_type": "stream",
     "text": [
      "44.1 µs ± 404 ns per loop (mean ± std. dev. of 7 runs, 10000 loops each)\n"
     ]
    }
   ],
   "source": [
    "%%timeit\n",
    "sum(my_array) / len(my_array)"
   ]
  },
  {
   "cell_type": "markdown",
   "metadata": {},
   "source": [
    "##### нахождение минимального значения:"
   ]
  },
  {
   "cell_type": "code",
   "execution_count": 79,
   "metadata": {},
   "outputs": [
    {
     "name": "stdout",
     "output_type": "stream",
     "text": [
      "23.9 µs ± 929 ns per loop (mean ± std. dev. of 7 runs, 10000 loops each)\n"
     ]
    }
   ],
   "source": [
    "%%timeit\n",
    "min(my_array)"
   ]
  },
  {
   "cell_type": "code",
   "execution_count": 80,
   "metadata": {},
   "outputs": [
    {
     "name": "stdout",
     "output_type": "stream",
     "text": [
      "5.07 µs ± 129 ns per loop (mean ± std. dev. of 7 runs, 100000 loops each)\n"
     ]
    }
   ],
   "source": [
    "%%timeit\n",
    "my_array.min()"
   ]
  },
  {
   "cell_type": "code",
   "execution_count": 81,
   "metadata": {},
   "outputs": [
    {
     "name": "stdout",
     "output_type": "stream",
     "text": [
      "33.1 µs ± 323 ns per loop (mean ± std. dev. of 7 runs, 10000 loops each)\n"
     ]
    }
   ],
   "source": [
    "%%timeit\n",
    "min_(my_array)"
   ]
  },
  {
   "cell_type": "markdown",
   "metadata": {},
   "source": [
    "#### Задача 6\n",
    "Преобразуйте исходный массив my_array в список (list). Назовите его my_list. Сравните производительность написанных вами функций в зависимости от типа данных (my_list и my_array). Сделайте вывод"
   ]
  },
  {
   "cell_type": "code",
   "execution_count": 82,
   "metadata": {},
   "outputs": [
    {
     "data": {
      "text/plain": [
       "list"
      ]
     },
     "execution_count": 82,
     "metadata": {},
     "output_type": "execute_result"
    }
   ],
   "source": [
    "my_list = list(my_array)\n",
    "type(my_list)"
   ]
  },
  {
   "cell_type": "markdown",
   "metadata": {},
   "source": [
    "##### суммирование:"
   ]
  },
  {
   "cell_type": "code",
   "execution_count": 83,
   "metadata": {},
   "outputs": [
    {
     "name": "stdout",
     "output_type": "stream",
     "text": [
      "49.5 µs ± 925 ns per loop (mean ± std. dev. of 7 runs, 10000 loops each)\n"
     ]
    }
   ],
   "source": [
    "%%timeit\n",
    "sum_(my_array)"
   ]
  },
  {
   "cell_type": "code",
   "execution_count": 84,
   "metadata": {},
   "outputs": [
    {
     "name": "stdout",
     "output_type": "stream",
     "text": [
      "32.1 µs ± 214 ns per loop (mean ± std. dev. of 7 runs, 10000 loops each)\n"
     ]
    }
   ],
   "source": [
    "%%timeit\n",
    "sum_(my_list)"
   ]
  },
  {
   "cell_type": "markdown",
   "metadata": {},
   "source": [
    "##### нахождение среднего:"
   ]
  },
  {
   "cell_type": "code",
   "execution_count": 85,
   "metadata": {},
   "outputs": [
    {
     "name": "stdout",
     "output_type": "stream",
     "text": [
      "50.3 µs ± 345 ns per loop (mean ± std. dev. of 7 runs, 10000 loops each)\n"
     ]
    }
   ],
   "source": [
    "%%timeit\n",
    "aver(my_array)"
   ]
  },
  {
   "cell_type": "code",
   "execution_count": 86,
   "metadata": {},
   "outputs": [
    {
     "name": "stdout",
     "output_type": "stream",
     "text": [
      "33 µs ± 910 ns per loop (mean ± std. dev. of 7 runs, 10000 loops each)\n"
     ]
    }
   ],
   "source": [
    "%%timeit\n",
    "aver(my_list)"
   ]
  },
  {
   "cell_type": "markdown",
   "metadata": {},
   "source": [
    "##### нахождение минимального значения:"
   ]
  },
  {
   "cell_type": "code",
   "execution_count": 87,
   "metadata": {},
   "outputs": [
    {
     "name": "stdout",
     "output_type": "stream",
     "text": [
      "33.3 µs ± 278 ns per loop (mean ± std. dev. of 7 runs, 10000 loops each)\n"
     ]
    }
   ],
   "source": [
    "%%timeit\n",
    "min_(my_array)"
   ]
  },
  {
   "cell_type": "code",
   "execution_count": 88,
   "metadata": {},
   "outputs": [
    {
     "name": "stdout",
     "output_type": "stream",
     "text": [
      "17.3 µs ± 161 ns per loop (mean ± std. dev. of 7 runs, 100000 loops each)\n"
     ]
    }
   ],
   "source": [
    "%%timeit\n",
    "min_(my_list)"
   ]
  },
  {
   "cell_type": "markdown",
   "metadata": {},
   "source": [
    "#### Задача 7\n",
    "\n",
    "Сравните производительность написанных вами функций с встроенными функциями на массиве my_list. Сделайте вывод."
   ]
  },
  {
   "cell_type": "markdown",
   "metadata": {},
   "source": [
    "##### суммирование:"
   ]
  },
  {
   "cell_type": "code",
   "execution_count": 89,
   "metadata": {},
   "outputs": [
    {
     "name": "stdout",
     "output_type": "stream",
     "text": [
      "4.41 µs ± 29.6 ns per loop (mean ± std. dev. of 7 runs, 100000 loops each)\n"
     ]
    }
   ],
   "source": [
    "%%timeit\n",
    "my_array.sum()"
   ]
  },
  {
   "cell_type": "code",
   "execution_count": 90,
   "metadata": {},
   "outputs": [
    {
     "name": "stdout",
     "output_type": "stream",
     "text": [
      "28 µs ± 283 ns per loop (mean ± std. dev. of 7 runs, 10000 loops each)\n"
     ]
    }
   ],
   "source": [
    "%%timeit\n",
    "sum(my_list)"
   ]
  },
  {
   "cell_type": "markdown",
   "metadata": {},
   "source": [
    "##### нахождение среднего:"
   ]
  },
  {
   "cell_type": "code",
   "execution_count": 91,
   "metadata": {},
   "outputs": [
    {
     "name": "stdout",
     "output_type": "stream",
     "text": [
      "9.4 µs ± 890 ns per loop (mean ± std. dev. of 7 runs, 100000 loops each)\n"
     ]
    }
   ],
   "source": [
    "%%timeit\n",
    "my_array.mean()"
   ]
  },
  {
   "cell_type": "code",
   "execution_count": 92,
   "metadata": {},
   "outputs": [
    {
     "name": "stdout",
     "output_type": "stream",
     "text": [
      "29.1 µs ± 182 ns per loop (mean ± std. dev. of 7 runs, 10000 loops each)\n"
     ]
    }
   ],
   "source": [
    "%%timeit\n",
    "sum(my_list) / len(my_list)"
   ]
  },
  {
   "cell_type": "markdown",
   "metadata": {},
   "source": [
    "##### нахождение минимального значения:"
   ]
  },
  {
   "cell_type": "code",
   "execution_count": 93,
   "metadata": {},
   "outputs": [
    {
     "name": "stdout",
     "output_type": "stream",
     "text": [
      "9.37 µs ± 66.6 ns per loop (mean ± std. dev. of 7 runs, 100000 loops each)\n"
     ]
    }
   ],
   "source": [
    "%%timeit\n",
    "min(my_list)"
   ]
  },
  {
   "cell_type": "code",
   "execution_count": 94,
   "metadata": {},
   "outputs": [
    {
     "name": "stdout",
     "output_type": "stream",
     "text": [
      "9.12 µs ± 485 ns per loop (mean ± std. dev. of 7 runs, 100000 loops each)\n"
     ]
    }
   ],
   "source": [
    "%%timeit\n",
    "min(my_list)"
   ]
  },
  {
   "cell_type": "markdown",
   "metadata": {},
   "source": [
    "#### Задача 8\n",
    "\n",
    "Подгрузите файл **iris.csv** с помощью встроенной функции **np.loadtxt**. Назовите его my_2d_array. Напиишите функцию, которая считает сумму элементов массива по столбцам. "
   ]
  },
  {
   "cell_type": "code",
   "execution_count": 95,
   "metadata": {},
   "outputs": [
    {
     "name": "stdout",
     "output_type": "stream",
     "text": [
      "(150, 4)\n"
     ]
    }
   ],
   "source": [
    "my_2d_array = np.loadtxt('iris.csv', delimiter=',')\n",
    "print(my_2d_array.shape)"
   ]
  },
  {
   "cell_type": "code",
   "execution_count": 96,
   "metadata": {},
   "outputs": [],
   "source": [
    "def np_sum_col(array):\n",
    "    rslt = []\n",
    "    for i in range(len(array[1])):\n",
    "        sum_ = 0\n",
    "        for j in array:\n",
    "            sum_ += j\n",
    "    rslt.append(sum_)\n",
    "    return rslt"
   ]
  },
  {
   "cell_type": "code",
   "execution_count": 97,
   "metadata": {},
   "outputs": [
    {
     "data": {
      "text/plain": [
       "[array([876.5, 458.6, 563.7, 179.9])]"
      ]
     },
     "execution_count": 97,
     "metadata": {},
     "output_type": "execute_result"
    }
   ],
   "source": [
    "np_sum_col(my_2d_array)"
   ]
  },
  {
   "cell_type": "code",
   "execution_count": 98,
   "metadata": {},
   "outputs": [
    {
     "data": {
      "text/plain": [
       "array([876.5, 458.6, 563.7, 179.9])"
      ]
     },
     "execution_count": 98,
     "metadata": {},
     "output_type": "execute_result"
    }
   ],
   "source": [
    "np.sum(my_2d_array, axis =0)"
   ]
  },
  {
   "cell_type": "markdown",
   "metadata": {},
   "source": [
    "#### Задача 9\n",
    "* транспонируйте my_2d_array\n",
    "* выполните матричное умножение my_2d_array на my_2d_array.T\n",
    "* выполните матричное умножение my_2d_array.T на my_2d_array"
   ]
  },
  {
   "cell_type": "code",
   "execution_count": 99,
   "metadata": {
    "scrolled": false
   },
   "outputs": [
    {
     "name": "stdout",
     "output_type": "stream",
     "text": [
      "\n",
      "размер исходной:\n",
      " (150, 4) \n",
      "\n",
      "транспонированная матрица:\n",
      "\n",
      " [[5.1 4.9 4.7 4.6 5.  5.4 4.6 5.  4.4 4.9 5.4 4.8 4.8 4.3 5.8 5.7 5.4 5.1\n",
      "  5.7 5.1 5.4 5.1 4.6 5.1 4.8 5.  5.  5.2 5.2 4.7 4.8 5.4 5.2 5.5 4.9 5.\n",
      "  5.5 4.9 4.4 5.1 5.  4.5 4.4 5.  5.1 4.8 5.1 4.6 5.3 5.  7.  6.4 6.9 5.5\n",
      "  6.5 5.7 6.3 4.9 6.6 5.2 5.  5.9 6.  6.1 5.6 6.7 5.6 5.8 6.2 5.6 5.9 6.1\n",
      "  6.3 6.1 6.4 6.6 6.8 6.7 6.  5.7 5.5 5.5 5.8 6.  5.4 6.  6.7 6.3 5.6 5.5\n",
      "  5.5 6.1 5.8 5.  5.6 5.7 5.7 6.2 5.1 5.7 6.3 5.8 7.1 6.3 6.5 7.6 4.9 7.3\n",
      "  6.7 7.2 6.5 6.4 6.8 5.7 5.8 6.4 6.5 7.7 7.7 6.  6.9 5.6 7.7 6.3 6.7 7.2\n",
      "  6.2 6.1 6.4 7.2 7.4 7.9 6.4 6.3 6.1 7.7 6.3 6.4 6.  6.9 6.7 6.9 5.8 6.8\n",
      "  6.7 6.7 6.3 6.5 6.2 5.9]\n",
      " [3.5 3.  3.2 3.1 3.6 3.9 3.4 3.4 2.9 3.1 3.7 3.4 3.  3.  4.  4.4 3.9 3.5\n",
      "  3.8 3.8 3.4 3.7 3.6 3.3 3.4 3.  3.4 3.5 3.4 3.2 3.1 3.4 4.1 4.2 3.1 3.2\n",
      "  3.5 3.6 3.  3.4 3.5 2.3 3.2 3.5 3.8 3.  3.8 3.2 3.7 3.3 3.2 3.2 3.1 2.3\n",
      "  2.8 2.8 3.3 2.4 2.9 2.7 2.  3.  2.2 2.9 2.9 3.1 3.  2.7 2.2 2.5 3.2 2.8\n",
      "  2.5 2.8 2.9 3.  2.8 3.  2.9 2.6 2.4 2.4 2.7 2.7 3.  3.4 3.1 2.3 3.  2.5\n",
      "  2.6 3.  2.6 2.3 2.7 3.  2.9 2.9 2.5 2.8 3.3 2.7 3.  2.9 3.  3.  2.5 2.9\n",
      "  2.5 3.6 3.2 2.7 3.  2.5 2.8 3.2 3.  3.8 2.6 2.2 3.2 2.8 2.8 2.7 3.3 3.2\n",
      "  2.8 3.  2.8 3.  2.8 3.8 2.8 2.8 2.6 3.  3.4 3.1 3.  3.1 3.1 3.1 2.7 3.2\n",
      "  3.3 3.  2.5 3.  3.4 3. ]\n",
      " [1.4 1.4 1.3 1.5 1.4 1.7 1.4 1.5 1.4 1.5 1.5 1.6 1.4 1.1 1.2 1.5 1.3 1.4\n",
      "  1.7 1.5 1.7 1.5 1.  1.7 1.9 1.6 1.6 1.5 1.4 1.6 1.6 1.5 1.5 1.4 1.5 1.2\n",
      "  1.3 1.4 1.3 1.5 1.3 1.3 1.3 1.6 1.9 1.4 1.6 1.4 1.5 1.4 4.7 4.5 4.9 4.\n",
      "  4.6 4.5 4.7 3.3 4.6 3.9 3.5 4.2 4.  4.7 3.6 4.4 4.5 4.1 4.5 3.9 4.8 4.\n",
      "  4.9 4.7 4.3 4.4 4.8 5.  4.5 3.5 3.8 3.7 3.9 5.1 4.5 4.5 4.7 4.4 4.1 4.\n",
      "  4.4 4.6 4.  3.3 4.2 4.2 4.2 4.3 3.  4.1 6.  5.1 5.9 5.6 5.8 6.6 4.5 6.3\n",
      "  5.8 6.1 5.1 5.3 5.5 5.  5.1 5.3 5.5 6.7 6.9 5.  5.7 4.9 6.7 4.9 5.7 6.\n",
      "  4.8 4.9 5.6 5.8 6.1 6.4 5.6 5.1 5.6 6.1 5.6 5.5 4.8 5.4 5.6 5.1 5.1 5.9\n",
      "  5.7 5.2 5.  5.2 5.4 5.1]\n",
      " [0.2 0.2 0.2 0.2 0.2 0.4 0.3 0.2 0.2 0.1 0.2 0.2 0.1 0.1 0.2 0.4 0.4 0.3\n",
      "  0.3 0.3 0.2 0.4 0.2 0.5 0.2 0.2 0.4 0.2 0.2 0.2 0.2 0.4 0.1 0.2 0.2 0.2\n",
      "  0.2 0.1 0.2 0.2 0.3 0.3 0.2 0.6 0.4 0.3 0.2 0.2 0.2 0.2 1.4 1.5 1.5 1.3\n",
      "  1.5 1.3 1.6 1.  1.3 1.4 1.  1.5 1.  1.4 1.3 1.4 1.5 1.  1.5 1.1 1.8 1.3\n",
      "  1.5 1.2 1.3 1.4 1.4 1.7 1.5 1.  1.1 1.  1.2 1.6 1.5 1.6 1.5 1.3 1.3 1.3\n",
      "  1.2 1.4 1.2 1.  1.3 1.2 1.3 1.3 1.1 1.3 2.5 1.9 2.1 1.8 2.2 2.1 1.7 1.8\n",
      "  1.8 2.5 2.  1.9 2.1 2.  2.4 2.3 1.8 2.2 2.3 1.5 2.3 2.  2.  1.8 2.1 1.8\n",
      "  1.8 1.8 2.1 1.6 1.9 2.  2.2 1.5 1.4 2.3 2.4 1.8 1.8 2.1 2.4 2.3 1.9 2.3\n",
      "  2.5 2.3 1.9 2.  2.3 1.8]] \n",
      "размер:\n",
      " (4, 150) \n",
      "\n",
      "2d_array на my_2d_array.T:\n",
      "\n",
      " [[40.26 37.49 37.03 ... 51.33 51.54 48.09]\n",
      " [37.49 35.01 34.49 ... 48.53 48.6  45.41]\n",
      " [37.03 34.49 34.06 ... 47.31 47.5  44.32]\n",
      " ...\n",
      " [51.33 48.53 47.31 ... 82.29 83.18 77.47]\n",
      " [51.54 48.6  47.5  ... 83.18 84.45 78.46]\n",
      " [48.09 45.41 44.32 ... 77.47 78.46 73.06]] \n",
      "размер:\n",
      " (150, 150) \n",
      "\n",
      "2d_array.T на my_2d_array:\n",
      "\n",
      " [[5223.85 2673.43 3483.76 1128.14]\n",
      " [2673.43 1430.4  1674.3   531.89]\n",
      " [3483.76 1674.3  2582.71  869.11]\n",
      " [1128.14  531.89  869.11  302.33]] \n",
      "размер:\n",
      " (4, 4)\n"
     ]
    }
   ],
   "source": [
    "print('\\nразмер исходной:\\n',\n",
    "      my_2d_array.shape,\n",
    "     '\\n\\nтранспонированная матрица:\\n\\n',\n",
    "      my_2d_array.T,\n",
    "      '\\nразмер:\\n',\n",
    "      my_2d_array.T.shape,\n",
    "      '\\n\\n2d_array на my_2d_array.T:\\n\\n',\n",
    "      my_2d_array.dot(my_2d_array.T),\n",
    "      '\\nразмер:\\n',\n",
    "      my_2d_array.dot(my_2d_array.T).shape,\n",
    "     '\\n\\n2d_array.T на my_2d_array:\\n\\n',\n",
    "     my_2d_array.T.dot(my_2d_array),\n",
    "     '\\nразмер:\\n',\n",
    "     my_2d_array.T.dot(my_2d_array).shape)"
   ]
  },
  {
   "cell_type": "markdown",
   "metadata": {},
   "source": [
    "#### Задача 10\n",
    "Найдите в документации библиотеки numpy функцию, вычисляющую собственные числа матрицы.\n",
    "\n",
    "Найдите собственные числа матриц (my_2d_array.T * my_2d_array) и (my_2d_array * my_2d_array.T) используя соответствующую функцию"
   ]
  },
  {
   "cell_type": "code",
   "execution_count": 100,
   "metadata": {
    "scrolled": true
   },
   "outputs": [
    {
     "data": {
      "text/plain": [
       "(array([ 9.20830507e+03+0.00000000e+00j,  3.15454317e+02+0.00000000e+00j,\n",
       "         1.19780429e+01+0.00000000e+00j,  3.55257020e+00+0.00000000e+00j,\n",
       "         8.20712565e-13+0.00000000e+00j, -4.33094080e-14+6.68123026e-13j,\n",
       "        -4.33094080e-14-6.68123026e-13j, -6.42823339e-13+0.00000000e+00j,\n",
       "        -2.07824941e-13+5.46853383e-13j, -2.07824941e-13-5.46853383e-13j,\n",
       "        -4.87505161e-13+2.64151961e-13j, -4.87505161e-13-2.64151961e-13j,\n",
       "         6.80722196e-14+5.32510787e-13j,  6.80722196e-14-5.32510787e-13j,\n",
       "        -2.72814349e-13+4.60848097e-13j, -2.72814349e-13-4.60848097e-13j,\n",
       "         5.17720768e-13+0.00000000e+00j,  2.78584495e-13+4.18362133e-13j,\n",
       "         2.78584495e-13-4.18362133e-13j, -4.80969799e-13+0.00000000e+00j,\n",
       "         2.89784951e-13+2.96687604e-13j,  2.89784951e-13-2.96687604e-13j,\n",
       "         3.90383834e-13+1.24736332e-13j,  3.90383834e-13-1.24736332e-13j,\n",
       "        -3.06006444e-14+3.48957061e-13j, -3.06006444e-14-3.48957061e-13j,\n",
       "         3.31881219e-13+0.00000000e+00j, -3.22444098e-13+7.59199236e-14j,\n",
       "        -3.22444098e-13-7.59199236e-14j, -2.03509871e-13+2.33387234e-13j,\n",
       "        -2.03509871e-13-2.33387234e-13j,  1.50484597e-13+2.13041892e-13j,\n",
       "         1.50484597e-13-2.13041892e-13j,  2.45166933e-13+0.00000000e+00j,\n",
       "         8.42607792e-14+1.71719528e-13j,  8.42607792e-14-1.71719528e-13j,\n",
       "        -5.61073427e-14+1.64036109e-13j, -5.61073427e-14-1.64036109e-13j,\n",
       "         1.11541518e-13+1.35652968e-13j,  1.11541518e-13-1.35652968e-13j,\n",
       "        -1.71570622e-13+7.21104258e-14j, -1.71570622e-13-7.21104258e-14j,\n",
       "        -1.75620037e-13+3.93618061e-14j, -1.75620037e-13-3.93618061e-14j,\n",
       "         1.88717459e-13+0.00000000e+00j,  1.78926798e-13+3.01240916e-14j,\n",
       "         1.78926798e-13-3.01240916e-14j,  1.65764403e-13+4.96961103e-14j,\n",
       "         1.65764403e-13-4.96961103e-14j, -1.42352063e-13+8.01880348e-14j,\n",
       "        -1.42352063e-13-8.01880348e-14j, -1.63746059e-13+2.44063637e-14j,\n",
       "        -1.63746059e-13-2.44063637e-14j, -1.01587207e-13+1.17878464e-13j,\n",
       "        -1.01587207e-13-1.17878464e-13j,  1.41137880e-13+6.17971833e-14j,\n",
       "         1.41137880e-13-6.17971833e-14j,  5.55106034e-14+1.36963266e-13j,\n",
       "         5.55106034e-14-1.36963266e-13j, -1.16499733e-13+9.62783723e-14j,\n",
       "        -1.16499733e-13-9.62783723e-14j, -1.50341176e-13+0.00000000e+00j,\n",
       "         1.48309865e-13+0.00000000e+00j, -5.89056811e-14+1.23820163e-13j,\n",
       "        -5.89056811e-14-1.23820163e-13j,  1.01829191e-13+8.91969254e-14j,\n",
       "         1.01829191e-13-8.91969254e-14j,  1.32167412e-13+2.55465403e-14j,\n",
       "         1.32167412e-13-2.55465403e-14j, -5.07023569e-15+1.24880805e-13j,\n",
       "        -5.07023569e-15-1.24880805e-13j, -8.80656196e-14+8.11336551e-14j,\n",
       "        -8.80656196e-14-8.11336551e-14j,  1.11437416e-13+5.72863743e-14j,\n",
       "         1.11437416e-13-5.72863743e-14j,  2.99611123e-14+1.16828780e-13j,\n",
       "         2.99611123e-14-1.16828780e-13j, -1.28343657e-13+1.54607910e-15j,\n",
       "        -1.28343657e-13-1.54607910e-15j, -6.04249992e-14+1.05453462e-13j,\n",
       "        -6.04249992e-14-1.05453462e-13j,  7.60794674e-14+9.25584249e-14j,\n",
       "         7.60794674e-14-9.25584249e-14j, -1.13172736e-13+4.74209497e-14j,\n",
       "        -1.13172736e-13-4.74209497e-14j, -4.27194806e-14+1.04279869e-13j,\n",
       "        -4.27194806e-14-1.04279869e-13j,  7.21158857e-14+8.19557503e-14j,\n",
       "         7.21158857e-14-8.19557503e-14j,  1.14841510e-13+9.60427185e-15j,\n",
       "         1.14841510e-13-9.60427185e-15j, -6.31621222e-14+8.28178601e-14j,\n",
       "        -6.31621222e-14-8.28178601e-14j,  5.09905384e-14+8.69679770e-14j,\n",
       "         5.09905384e-14-8.69679770e-14j, -9.20815685e-14+4.36862628e-14j,\n",
       "        -9.20815685e-14-4.36862628e-14j,  8.44078170e-14+4.89805480e-14j,\n",
       "         8.44078170e-14-4.89805480e-14j,  9.23480419e-14+3.04608769e-14j,\n",
       "         9.23480419e-14-3.04608769e-14j, -9.39148078e-14+3.57567146e-14j,\n",
       "        -9.39148078e-14-3.57567146e-14j,  1.06838839e-14+9.02299847e-14j,\n",
       "         1.06838839e-14-9.02299847e-14j, -9.44939636e-14+0.00000000e+00j,\n",
       "        -8.09347454e-14+1.92335487e-14j, -8.09347454e-14-1.92335487e-14j,\n",
       "         8.48521657e-14+0.00000000e+00j,  2.46457192e-14+7.26484280e-14j,\n",
       "         2.46457192e-14-7.26484280e-14j,  3.36464262e-14+6.17488218e-14j,\n",
       "         3.36464262e-14-6.17488218e-14j, -1.14669702e-14+6.59493954e-14j,\n",
       "        -1.14669702e-14-6.59493954e-14j, -3.89849852e-14+5.83745482e-14j,\n",
       "        -3.89849852e-14-5.83745482e-14j, -6.35176737e-14+3.42930933e-14j,\n",
       "        -6.35176737e-14-3.42930933e-14j, -5.32534789e-14+3.82066540e-14j,\n",
       "        -5.32534789e-14-3.82066540e-14j,  5.59198565e-14+3.45896034e-14j,\n",
       "         5.59198565e-14-3.45896034e-14j,  4.25991910e-14+4.04496218e-14j,\n",
       "         4.25991910e-14-4.04496218e-14j, -4.32357213e-14+3.10553391e-14j,\n",
       "        -4.32357213e-14-3.10553391e-14j, -1.97808850e-14+4.09046287e-14j,\n",
       "        -1.97808850e-14-4.09046287e-14j,  2.38052483e-15+4.34093251e-14j,\n",
       "         2.38052483e-15-4.34093251e-14j,  3.16081682e-14+3.51098321e-14j,\n",
       "         3.16081682e-14-3.51098321e-14j,  4.12408646e-14+2.55020468e-14j,\n",
       "         4.12408646e-14-2.55020468e-14j,  4.49329685e-14+1.04310258e-14j,\n",
       "         4.49329685e-14-1.04310258e-14j,  2.41835381e-15+2.64884085e-14j,\n",
       "         2.41835381e-15-2.64884085e-14j, -3.10300834e-14+0.00000000e+00j,\n",
       "        -3.06456445e-14+1.48392521e-14j, -3.06456445e-14-1.48392521e-14j,\n",
       "         2.85928967e-14+1.02657013e-14j,  2.85928967e-14-1.02657013e-14j,\n",
       "        -5.00620289e-14+1.49292468e-15j, -5.00620289e-14-1.49292468e-15j,\n",
       "         1.39105863e-14+0.00000000e+00j, -1.24241966e-14+9.22292592e-15j,\n",
       "        -1.24241966e-14-9.22292592e-15j, -1.15885226e-30+0.00000000e+00j]),\n",
       " array([[ 6.16168450e-02+0.00000000e+00j, -1.29611444e-01+0.00000000e+00j,\n",
       "         -2.13859674e-03+0.00000000e+00j, ...,\n",
       "         -8.34007428e-02-2.81442044e-02j, -8.34007428e-02+2.81442044e-02j,\n",
       "          1.27884725e-16+0.00000000e+00j],\n",
       "        [ 5.80709402e-02+0.00000000e+00j, -1.11019776e-01+0.00000000e+00j,\n",
       "         -7.06723871e-02+0.00000000e+00j, ...,\n",
       "         -1.36636879e-02+2.04638548e-05j, -1.36636879e-02-2.04638548e-05j,\n",
       "          1.75686960e-16+0.00000000e+00j],\n",
       "        [ 5.67630474e-02+0.00000000e+00j, -1.17966465e-01+0.00000000e+00j,\n",
       "         -4.34254909e-03+0.00000000e+00j, ...,\n",
       "         -2.71073342e-02+1.73025829e-02j, -2.71073342e-02-1.73025829e-02j,\n",
       "         -1.21699683e-16+0.00000000e+00j],\n",
       "        ...,\n",
       "        [ 9.40593040e-02+0.00000000e+00j,  4.98296974e-02+0.00000000e+00j,\n",
       "          4.14400144e-02+0.00000000e+00j, ...,\n",
       "         -5.53653203e-02+5.07973311e-02j, -5.53653203e-02-5.07973311e-02j,\n",
       "         -1.67034428e-16+0.00000000e+00j],\n",
       "        [ 9.48896096e-02+0.00000000e+00j,  5.61012256e-02+0.00000000e+00j,\n",
       "          2.12978214e-01+0.00000000e+00j, ...,\n",
       "          3.17009678e-02+6.20992273e-02j,  3.17009678e-02-6.20992273e-02j,\n",
       "         -1.39617449e-15+0.00000000e+00j],\n",
       "        [ 8.84783560e-02+0.00000000e+00j,  5.15697045e-02+0.00000000e+00j,\n",
       "          9.57528475e-02+0.00000000e+00j, ...,\n",
       "          3.65404150e-02+2.15918914e-02j,  3.65404150e-02-2.15918914e-02j,\n",
       "          2.10438330e-16+0.00000000e+00j]]))"
      ]
     },
     "execution_count": 100,
     "metadata": {},
     "output_type": "execute_result"
    }
   ],
   "source": [
    "np.linalg.eig(my_2d_array.dot(my_2d_array.T))"
   ]
  },
  {
   "cell_type": "code",
   "execution_count": 101,
   "metadata": {},
   "outputs": [
    {
     "data": {
      "text/plain": [
       "(array([9.20830507e+03, 3.15454317e+02, 1.19780429e+01, 3.55257020e+00]),\n",
       " array([[ 0.75110816,  0.2841749 ,  0.50215472,  0.32081425],\n",
       "        [ 0.38008617,  0.5467445 , -0.67524332, -0.31725607],\n",
       "        [ 0.51300886, -0.70866455, -0.05916621, -0.48074507],\n",
       "        [ 0.16790754, -0.34367081, -0.53701625,  0.75187165]]))"
      ]
     },
     "execution_count": 101,
     "metadata": {},
     "output_type": "execute_result"
    }
   ],
   "source": [
    "np.linalg.eig(my_2d_array.T.dot(my_2d_array))"
   ]
  },
  {
   "cell_type": "markdown",
   "metadata": {},
   "source": [
    "### Вариант Pro"
   ]
  },
  {
   "cell_type": "markdown",
   "metadata": {},
   "source": [
    "#### Задача 1\n",
    "\n",
    "* Подгрузите массив **train_vector.csv** и назовите его my_array. \n",
    "\n",
    "* В документации библиотеки numpy найдите функцию, генерирующую случаные числа.\n",
    "\n",
    "* Создайте двумерный массив из случайных чисел той же размерности, что и my_array.\n",
    "\n",
    "* Назовите его my_generated_array"
   ]
  },
  {
   "cell_type": "code",
   "execution_count": 102,
   "metadata": {},
   "outputs": [
    {
     "data": {
      "text/plain": [
       "(150,)"
      ]
     },
     "execution_count": 102,
     "metadata": {},
     "output_type": "execute_result"
    }
   ],
   "source": [
    "my_array = np.loadtxt('train_vector.csv', delimiter = ',')\n",
    "my_array.shape"
   ]
  },
  {
   "cell_type": "code",
   "execution_count": 103,
   "metadata": {},
   "outputs": [
    {
     "data": {
      "text/plain": [
       "(150,)"
      ]
     },
     "execution_count": 103,
     "metadata": {},
     "output_type": "execute_result"
    }
   ],
   "source": [
    "my_generated_array = np.random.randint(10, size=(150,))\n",
    "my_generated_array.shape"
   ]
  },
  {
   "cell_type": "markdown",
   "metadata": {},
   "source": [
    "#### Задача 2\n",
    "\n",
    "* Выполните поэлементное умножение my_array на my_generated_array\n",
    "\n",
    "* Транспонируйте my_generated_array\n",
    "\n",
    "* Выполните матричное умножение my_array на транспонированный my_generated_array\n",
    "\n",
    "* Выполните матричное умножение my_array.T на my_generated_array"
   ]
  },
  {
   "cell_type": "code",
   "execution_count": 104,
   "metadata": {},
   "outputs": [
    {
     "data": {
      "text/plain": [
       "array([21. , 24. , 22.4,  9.3, 21.6, 19.5,  3.4,  3.4,  5.8, 21.7, 11.1,\n",
       "        3.4, 27. , 12. ,  4. , 35.2, 23.4, 10.5, 30.4,  0. , 10.2, 14.8,\n",
       "        3.6, 19.8,  3.4, 18. , 27.2, 28. ,  3.4, 22.4,  0. ,  3.4, 36.9,\n",
       "       21. , 12.4,  6.4, 17.5, 14.4, 21. , 27.2, 21. , 16.1,  0. , 24.5,\n",
       "       30.4,  6. , 34.2,  3.2,  0. ,  9.9,  3.2, 22.4, 12.4,  0. , 25.2,\n",
       "        0. , 26.4, 16.8, 23.2,  8.1,  0. , 24. , 11. , 20.3, 20.3, 27.9,\n",
       "       21. ,  2.7, 15.4,  0. , 19.2,  8.4,  7.5, 14. , 14.5, 18. , 25.2,\n",
       "       15. , 23.2,  5.2, 19.2,  2.4, 10.8, 24.3, 18. , 23.8, 18.6,  0. ,\n",
       "       21. , 17.5,  5.2,  0. , 23.4, 20.7, 10.8, 12. , 14.5, 20.3, 10. ,\n",
       "        8.4,  0. , 21.6, 18. , 11.6, 27. , 24. ,  2.5, 11.6, 10. , 14.4,\n",
       "        0. , 18.9,  9. , 15. ,  0. ,  6.4, 24. , 19. , 20.8,  2.2,  9.6,\n",
       "       19.6, 22.4, 16.2, 29.7,  0. ,  8.4, 12. ,  0. , 27. ,  8.4, 30.4,\n",
       "        2.8, 22.4,  0. ,  9. , 20.4,  3.1, 24. ,  6.2,  6.2, 24.8, 24.3,\n",
       "        0. , 26.4, 15. ,  5. ,  6. ,  3.4, 12. ])"
      ]
     },
     "execution_count": 104,
     "metadata": {},
     "output_type": "execute_result"
    }
   ],
   "source": [
    "my_array * my_generated_array"
   ]
  },
  {
   "cell_type": "code",
   "execution_count": 105,
   "metadata": {},
   "outputs": [
    {
     "data": {
      "text/plain": [
       "array([6, 8, 7, 3, 6, 5, 1, 1, 2, 7, 3, 1, 9, 4, 1, 8, 6, 3, 8, 0, 3, 4,\n",
       "       1, 6, 1, 6, 8, 8, 1, 7, 0, 1, 9, 5, 4, 2, 5, 4, 7, 8, 6, 7, 0, 7,\n",
       "       8, 2, 9, 1, 0, 3, 1, 7, 4, 0, 9, 0, 8, 7, 8, 3, 0, 8, 5, 7, 7, 9,\n",
       "       7, 1, 7, 0, 6, 3, 3, 5, 5, 6, 9, 5, 8, 2, 8, 1, 4, 9, 6, 7, 6, 0,\n",
       "       7, 7, 2, 0, 9, 9, 4, 4, 5, 7, 4, 3, 0, 8, 6, 4, 9, 8, 1, 4, 4, 4,\n",
       "       0, 7, 3, 6, 0, 2, 8, 5, 8, 1, 3, 7, 8, 6, 9, 0, 3, 4, 0, 9, 3, 8,\n",
       "       1, 8, 0, 3, 6, 1, 8, 2, 2, 8, 9, 0, 8, 5, 2, 2, 1, 4])"
      ]
     },
     "execution_count": 105,
     "metadata": {},
     "output_type": "execute_result"
    }
   ],
   "source": [
    "my_generated_array.T"
   ]
  },
  {
   "cell_type": "code",
   "execution_count": 106,
   "metadata": {},
   "outputs": [
    {
     "data": {
      "text/plain": [
       "2127.5"
      ]
     },
     "execution_count": 106,
     "metadata": {},
     "output_type": "execute_result"
    }
   ],
   "source": [
    "my_array.dot(my_generated_array)"
   ]
  },
  {
   "cell_type": "code",
   "execution_count": 107,
   "metadata": {},
   "outputs": [
    {
     "data": {
      "text/plain": [
       "2127.5"
      ]
     },
     "execution_count": 107,
     "metadata": {},
     "output_type": "execute_result"
    }
   ],
   "source": [
    "my_generated_array.dot(my_array)"
   ]
  },
  {
   "cell_type": "markdown",
   "metadata": {},
   "source": [
    "#### Задача 3\n",
    "\n",
    "* Найдите все элементы массива my_array, которые больше трех и меньше 5 одновременно. Используйте методологию подвыборки массива с условием"
   ]
  },
  {
   "cell_type": "code",
   "execution_count": 108,
   "metadata": {},
   "outputs": [
    {
     "data": {
      "text/plain": [
       "array([3.5, 3.2, 3.1, 3.6, 3.9, 3.4, 3.4, 3.1, 3.7, 3.4, 4. , 4.4, 3.9,\n",
       "       3.5, 3.8, 3.8, 3.4, 3.7, 3.6, 3.3, 3.4, 3.4, 3.5, 3.4, 3.2, 3.1,\n",
       "       3.4, 4.1, 4.2, 3.1, 3.2, 3.5, 3.6, 3.4, 3.5, 3.2, 3.5, 3.8, 3.8,\n",
       "       3.2, 3.7, 3.3, 3.2, 3.2, 3.1, 3.3, 3.1, 3.2, 3.4, 3.1, 3.3, 3.6,\n",
       "       3.2, 3.2, 3.8, 3.2, 3.3, 3.2, 3.8, 3.4, 3.1, 3.1, 3.1, 3.1, 3.2,\n",
       "       3.3, 3.4])"
      ]
     },
     "execution_count": 108,
     "metadata": {},
     "output_type": "execute_result"
    }
   ],
   "source": [
    "my_array[((my_array > 3) & (my_array < 5))]"
   ]
  },
  {
   "cell_type": "markdown",
   "metadata": {},
   "source": [
    "#### Задача 4\n",
    "\n",
    "Даны два массива. \n",
    "* Найдите все общие элементы массивов (пересечение) при помощи встроенного метода.\n",
    "* Напишите функцию, которая находит пересечение двух массивов (используйте структуру set)\n",
    "* Сравните производительность по времени между np.intersect и вашей функцией. Для сравнения используйте %%timeit"
   ]
  },
  {
   "cell_type": "code",
   "execution_count": 109,
   "metadata": {},
   "outputs": [],
   "source": [
    "a = np.array([17, 2, 3, 8, 5, 1990, 23, 36, 74])\n",
    "b = np.array([37, 32, 12, 3, 25, 0, 17, 96, 54, 1990, 206])"
   ]
  },
  {
   "cell_type": "code",
   "execution_count": 110,
   "metadata": {},
   "outputs": [
    {
     "name": "stdout",
     "output_type": "stream",
     "text": [
      "33.4 µs ± 678 ns per loop (mean ± std. dev. of 7 runs, 10000 loops each)\n"
     ]
    }
   ],
   "source": [
    "%timeit np.intersect1d(a, b)"
   ]
  },
  {
   "cell_type": "code",
   "execution_count": 111,
   "metadata": {},
   "outputs": [],
   "source": [
    "def common_elements(a, b):\n",
    "    a_set, b_set = set(a), set(b)\n",
    "    if (a_set & b_set):\n",
    "        return a_set & b_set\n",
    "    else:\n",
    "        print('нет общих элементов')"
   ]
  },
  {
   "cell_type": "code",
   "execution_count": 112,
   "metadata": {},
   "outputs": [
    {
     "name": "stdout",
     "output_type": "stream",
     "text": [
      "9.12 µs ± 213 ns per loop (mean ± std. dev. of 7 runs, 100000 loops each)\n"
     ]
    }
   ],
   "source": [
    "%timeit common_elements(a,b)"
   ]
  },
  {
   "cell_type": "code",
   "execution_count": 113,
   "metadata": {},
   "outputs": [
    {
     "name": "stdout",
     "output_type": "stream",
     "text": [
      "7.92 µs ± 273 ns per loop (mean ± std. dev. of 7 runs, 100000 loops each)\n"
     ]
    }
   ],
   "source": [
    "%timeit list(set(a).intersection(b))"
   ]
  },
  {
   "cell_type": "markdown",
   "metadata": {},
   "source": [
    "#### Задача 5\n",
    "\n",
    "Создайте трехмерный массив размера 2 на 3 на 4, состоящий из случайных вещественных чисел от 17 до 23. Используйте встроенные методы библиотеки  np.random..."
   ]
  },
  {
   "cell_type": "code",
   "execution_count": 114,
   "metadata": {},
   "outputs": [
    {
     "data": {
      "text/plain": [
       "array([[[22, 22, 21, 20],\n",
       "        [20, 20, 20, 22],\n",
       "        [18, 21, 20, 19]],\n",
       "\n",
       "       [[19, 21, 22, 22],\n",
       "        [17, 17, 18, 18],\n",
       "        [20, 21, 19, 18]]])"
      ]
     },
     "execution_count": 114,
     "metadata": {},
     "output_type": "execute_result"
    }
   ],
   "source": [
    "np.random.randint(17, 23, size=(2,3,4))"
   ]
  },
  {
   "cell_type": "code",
   "execution_count": 115,
   "metadata": {},
   "outputs": [
    {
     "data": {
      "text/plain": [
       "3"
      ]
     },
     "execution_count": 115,
     "metadata": {},
     "output_type": "execute_result"
    }
   ],
   "source": [
    "np.random.randint(17, 23, size=(2,3,4)).ndim"
   ]
  },
  {
   "cell_type": "markdown",
   "metadata": {},
   "source": [
    "#### Задача 6\n",
    "\n",
    "Используя массив из предыдущей задачи, преобразуйте его в новый массив со следующими значениями:\n",
    "    * \"small\", если значения меньше 19\n",
    "    * \"medium\", если значения в промежутке [19, 21]\n",
    "    * \"large\", если значения больше 21"
   ]
  },
  {
   "cell_type": "code",
   "execution_count": 116,
   "metadata": {},
   "outputs": [
    {
     "data": {
      "text/plain": [
       "array([[[20, 18, 20, 20],\n",
       "        [22, 17, 18, 19],\n",
       "        [18, 19, 21, 19]],\n",
       "\n",
       "       [[18, 22, 22, 21],\n",
       "        [18, 22, 20, 21],\n",
       "        [22, 19, 18, 22]]])"
      ]
     },
     "execution_count": 116,
     "metadata": {},
     "output_type": "execute_result"
    }
   ],
   "source": [
    "my_array = np.random.randint(17, 23, size=(2,3,4))\n",
    "my_array"
   ]
  },
  {
   "cell_type": "code",
   "execution_count": 117,
   "metadata": {},
   "outputs": [
    {
     "data": {
      "text/plain": [
       "array([[['medium', 'small', 'medium', 'medium'],\n",
       "        ['large', 'small', 'small', 'medium'],\n",
       "        ['small', 'medium', 'medium', 'medium']],\n",
       "\n",
       "       [['small', 'large', 'large', 'medium'],\n",
       "        ['small', 'large', 'medium', 'medium'],\n",
       "        ['large', 'medium', 'small', 'large']]], dtype='<U6')"
      ]
     },
     "execution_count": 117,
     "metadata": {},
     "output_type": "execute_result"
    }
   ],
   "source": [
    "np.where(my_array < 19, 'small', (np.where(my_array>21, 'large', 'medium')))"
   ]
  },
  {
   "cell_type": "markdown",
   "metadata": {},
   "source": [
    "#### Задача 7\n",
    "\n",
    "Преобразуйте массив из задачи 5 в \"плоский\" массив, т.е. вытяните существующий трехмерный массив в вектор при помощи встроенных методов библиотеки numpy"
   ]
  },
  {
   "cell_type": "code",
   "execution_count": 118,
   "metadata": {},
   "outputs": [
    {
     "data": {
      "text/plain": [
       "array([[[21, 22, 18, 17],\n",
       "        [17, 18, 18, 22],\n",
       "        [22, 19, 21, 20]],\n",
       "\n",
       "       [[19, 18, 20, 20],\n",
       "        [22, 18, 18, 21],\n",
       "        [18, 19, 20, 17]]])"
      ]
     },
     "execution_count": 118,
     "metadata": {},
     "output_type": "execute_result"
    }
   ],
   "source": [
    "my_array = np.random.randint(17, 23, size=(2,3,4))\n",
    "my_array"
   ]
  },
  {
   "cell_type": "code",
   "execution_count": 119,
   "metadata": {},
   "outputs": [
    {
     "data": {
      "text/plain": [
       "array([21, 22, 18, 17, 17, 18, 18, 22, 22, 19, 21, 20, 19, 18, 20, 20, 22,\n",
       "       18, 18, 21, 18, 19, 20, 17])"
      ]
     },
     "execution_count": 119,
     "metadata": {},
     "output_type": "execute_result"
    }
   ],
   "source": [
    "my_array.flatten()"
   ]
  },
  {
   "cell_type": "code",
   "execution_count": 120,
   "metadata": {},
   "outputs": [
    {
     "data": {
      "text/plain": [
       "[21,\n",
       " 22,\n",
       " 18,\n",
       " 17,\n",
       " 17,\n",
       " 18,\n",
       " 18,\n",
       " 22,\n",
       " 22,\n",
       " 19,\n",
       " 21,\n",
       " 20,\n",
       " 19,\n",
       " 18,\n",
       " 20,\n",
       " 20,\n",
       " 22,\n",
       " 18,\n",
       " 18,\n",
       " 21,\n",
       " 18,\n",
       " 19,\n",
       " 20,\n",
       " 17]"
      ]
     },
     "execution_count": 120,
     "metadata": {},
     "output_type": "execute_result"
    }
   ],
   "source": [
    "list(my_array.flat)"
   ]
  },
  {
   "cell_type": "markdown",
   "metadata": {},
   "source": [
    "#### Задача 8: стандартизация данных\n",
    "\n",
    "Напишите функцию, которая выполняет стандартизацию данных, т.е. преобразовывает их так, чтобы среднее значение стало равным нулю, а стандартное отклонение единице.\n",
    "\n",
    "* загуглите что такое стандартизация и найдите формулу\n",
    "* напишите функцию\n",
    "* проверьте правильность выполнения функции на массиве из задачи 5\n"
   ]
  },
  {
   "cell_type": "markdown",
   "metadata": {},
   "source": [
    "Записываю формулу стандартизации значений массива\n",
    "\n",
    "$$ z = \\frac{x_i - \\mu}{\\sigma}  $$\n",
    "\n",
    "в функцию:"
   ]
  },
  {
   "cell_type": "code",
   "execution_count": 121,
   "metadata": {},
   "outputs": [],
   "source": [
    "def stnd(array):\n",
    "    result = (array - array.mean(axis=0) ) / (np.std(array))\n",
    "    return result"
   ]
  },
  {
   "cell_type": "code",
   "execution_count": 122,
   "metadata": {},
   "outputs": [
    {
     "data": {
      "text/plain": [
       "array([[[20, 19, 20, 21],\n",
       "        [22, 17, 20, 21],\n",
       "        [18, 22, 20, 19]],\n",
       "\n",
       "       [[22, 17, 19, 21],\n",
       "        [22, 18, 17, 17],\n",
       "        [17, 17, 21, 20]]])"
      ]
     },
     "execution_count": 122,
     "metadata": {},
     "output_type": "execute_result"
    }
   ],
   "source": [
    "# генерирую массив из задачи 5\n",
    "my_array = np.random.randint(17, 23, size=(2,3,4))\n",
    "my_array"
   ]
  },
  {
   "cell_type": "code",
   "execution_count": 123,
   "metadata": {},
   "outputs": [
    {
     "data": {
      "text/plain": [
       "True"
      ]
     },
     "execution_count": 123,
     "metadata": {},
     "output_type": "execute_result"
    }
   ],
   "source": [
    "# проверяю среднее\n",
    "np.sum(stnd(my_array))/my_array.size == np.mean(stnd(my_array)) == 0"
   ]
  },
  {
   "cell_type": "code",
   "execution_count": 124,
   "metadata": {},
   "outputs": [
    {
     "data": {
      "text/plain": [
       "0.6356587126210518"
      ]
     },
     "execution_count": 124,
     "metadata": {},
     "output_type": "execute_result"
    }
   ],
   "source": [
    "# проверяю стандартное отклонение \n",
    "np.std(stnd(my_array))"
   ]
  },
  {
   "cell_type": "markdown",
   "metadata": {},
   "source": [
    "стандартное отклонение не равно 1, скорее всего, это связано как то с 3 мерностью массива, поэтому попробую записать вручную:"
   ]
  },
  {
   "cell_type": "code",
   "execution_count": 125,
   "metadata": {},
   "outputs": [],
   "source": [
    "def stnd_man(array): \n",
    "    # среднее\n",
    "    mu = np.sum(array) / array.size\n",
    "    # отклонение\n",
    "    sigma = (np.sum((array - mu) ** 2)) / (array.size - 1)\n",
    "    # стандратизирую\n",
    "    res = (array - mu) / sigma\n",
    "    return res"
   ]
  },
  {
   "cell_type": "code",
   "execution_count": 126,
   "metadata": {},
   "outputs": [
    {
     "data": {
      "text/plain": [
       "array([[[ 0.15980759, -0.13522181,  0.15980759,  0.45483699],\n",
       "        [ 0.74986638, -0.7252806 ,  0.15980759,  0.45483699],\n",
       "        [-0.4302512 ,  0.74986638,  0.15980759, -0.13522181]],\n",
       "\n",
       "       [[ 0.74986638, -0.7252806 , -0.13522181,  0.45483699],\n",
       "        [ 0.74986638, -0.4302512 , -0.7252806 , -0.7252806 ],\n",
       "        [-0.7252806 , -0.7252806 ,  0.45483699,  0.15980759]]])"
      ]
     },
     "execution_count": 126,
     "metadata": {},
     "output_type": "execute_result"
    }
   ],
   "source": [
    "stnd_man(my_array)"
   ]
  },
  {
   "cell_type": "code",
   "execution_count": 127,
   "metadata": {},
   "outputs": [
    {
     "data": {
      "text/plain": [
       "8.326672684688674e-15"
      ]
     },
     "execution_count": 127,
     "metadata": {},
     "output_type": "execute_result"
    }
   ],
   "source": [
    "# но тут еще хуже\n",
    "np.sum(stnd_man(my_array))"
   ]
  },
  {
   "cell_type": "code",
   "execution_count": 128,
   "metadata": {},
   "outputs": [
    {
     "data": {
      "text/plain": [
       "0.5317297288501227"
      ]
     },
     "execution_count": 128,
     "metadata": {},
     "output_type": "execute_result"
    }
   ],
   "source": [
    "np.std(stnd_man(my_array))"
   ]
  },
  {
   "cell_type": "markdown",
   "metadata": {},
   "source": [
    "**Задача 9**\n",
    "\n",
    "* Напишите функцию, которая выполняет умножение двух матриц.\n",
    "* Сравните производительность по времени своей функции со встроенным методом .dot"
   ]
  },
  {
   "cell_type": "code",
   "execution_count": 129,
   "metadata": {},
   "outputs": [
    {
     "name": "stdout",
     "output_type": "stream",
     "text": [
      "матрица 1:\n",
      "\n",
      "[[1 3]\n",
      " [4 4]\n",
      " [3 4]\n",
      " [3 4]]\n",
      "\n",
      "матрица 2:\n",
      "\n",
      "[[2 3 1 1]\n",
      " [4 3 4 4]]\n"
     ]
    }
   ],
   "source": [
    "# генерирую 2 матрицы:\n",
    "array1 = np.random.randint(1, 5, size=(4,2))\n",
    "array2 = np.random.randint(1, 5, size=(2,4))\n",
    "print(f'матрица 1:\\n\\n{array1}\\n\\nматрица 2:\\n\\n{array2}')"
   ]
  },
  {
   "cell_type": "code",
   "execution_count": 130,
   "metadata": {},
   "outputs": [],
   "source": [
    "def mtrx_mlt(array1, array2):\n",
    "    # завожу переменную под результирующую матрицу\n",
    "    result = np.zeros((array1.shape[0], array1.shape[0]))\n",
    "    # обхожу строки матрциы 1\n",
    "    for i in range(array1.shape[0]):\n",
    "        # обхожу столбцы матрицы 2\n",
    "        for j in range(array2.shape[1]):\n",
    "            # обхожу строки матрциы 1\n",
    "            for el in range(array2.shape[0]):\n",
    "                result[i][j] += array1[i][el] * array2[el][j]\n",
    "    return result"
   ]
  },
  {
   "cell_type": "code",
   "execution_count": 131,
   "metadata": {},
   "outputs": [
    {
     "data": {
      "text/plain": [
       "array([[14., 12., 13., 13.],\n",
       "       [24., 24., 20., 20.],\n",
       "       [22., 21., 19., 19.],\n",
       "       [22., 21., 19., 19.]])"
      ]
     },
     "execution_count": 131,
     "metadata": {},
     "output_type": "execute_result"
    }
   ],
   "source": [
    "mtrx_mlt(array1, array2)"
   ]
  },
  {
   "cell_type": "code",
   "execution_count": 132,
   "metadata": {},
   "outputs": [
    {
     "name": "stdout",
     "output_type": "stream",
     "text": [
      "86 µs ± 2.19 µs per loop (mean ± std. dev. of 7 runs, 10000 loops each)\n"
     ]
    }
   ],
   "source": [
    "%timeit mtrx_mlt(array1, array2)"
   ]
  },
  {
   "cell_type": "code",
   "execution_count": 133,
   "metadata": {},
   "outputs": [
    {
     "data": {
      "text/plain": [
       "array([[14, 12, 13, 13],\n",
       "       [24, 24, 20, 20],\n",
       "       [22, 21, 19, 19],\n",
       "       [22, 21, 19, 19]])"
      ]
     },
     "execution_count": 133,
     "metadata": {},
     "output_type": "execute_result"
    }
   ],
   "source": [
    "array1.dot(array2)"
   ]
  },
  {
   "cell_type": "code",
   "execution_count": 134,
   "metadata": {},
   "outputs": [
    {
     "name": "stdout",
     "output_type": "stream",
     "text": [
      "1.9 µs ± 5.6 ns per loop (mean ± std. dev. of 7 runs, 1000000 loops each)\n"
     ]
    }
   ],
   "source": [
    "%timeit array1.dot(array2)"
   ]
  }
 ],
 "metadata": {
  "kernelspec": {
   "display_name": "Python 3",
   "language": "python",
   "name": "python3"
  },
  "language_info": {
   "codemirror_mode": {
    "name": "ipython",
    "version": 3
   },
   "file_extension": ".py",
   "mimetype": "text/x-python",
   "name": "python",
   "nbconvert_exporter": "python",
   "pygments_lexer": "ipython3",
   "version": "3.7.3"
  }
 },
 "nbformat": 4,
 "nbformat_minor": 2
}
